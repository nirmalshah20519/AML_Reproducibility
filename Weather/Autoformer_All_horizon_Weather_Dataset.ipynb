{
  "nbformat": 4,
  "nbformat_minor": 0,
  "metadata": {
    "colab": {
      "provenance": [],
      "collapsed_sections": [
        "k8VDpMGlno__",
        "q9w8mLZon180",
        "coY9Wk54pyoX",
        "FhmRa0kDqKdU"
      ]
    },
    "kernelspec": {
      "name": "tensorflow",
      "display_name": "Python 3.9 (Tensorflow GPU)"
    },
    "widgets": {
      "application/vnd.jupyter.widget-state+json": {
        "b1b4a12724c84bc19ecff4069662fed8": {
          "model_module": "@jupyter-widgets/controls",
          "model_name": "HBoxModel",
          "model_module_version": "2.0.0",
          "state": {
            "_dom_classes": [],
            "_model_module": "@jupyter-widgets/controls",
            "_model_module_version": "2.0.0",
            "_model_name": "HBoxModel",
            "_view_count": null,
            "_view_module": "@jupyter-widgets/controls",
            "_view_module_version": "2.0.0",
            "_view_name": "HBoxView",
            "box_style": "",
            "children": [
              "IPY_MODEL_bd408956647c4285af0a821a4794713a",
              "IPY_MODEL_f6be40cf61d04df68f57733b7e941055",
              "IPY_MODEL_580e92f247c1439ea17abb731fe11429"
            ],
            "layout": "IPY_MODEL_db66a49e20944f3989455a0971336445",
            "tabbable": null,
            "tooltip": null
          }
        },
        "bd408956647c4285af0a821a4794713a": {
          "model_module": "@jupyter-widgets/controls",
          "model_name": "HTMLModel",
          "model_module_version": "2.0.0",
          "state": {
            "_dom_classes": [],
            "_model_module": "@jupyter-widgets/controls",
            "_model_module_version": "2.0.0",
            "_model_name": "HTMLModel",
            "_view_count": null,
            "_view_module": "@jupyter-widgets/controls",
            "_view_module_version": "2.0.0",
            "_view_name": "HTMLView",
            "description": "",
            "description_allow_html": false,
            "layout": "IPY_MODEL_0bfc8bdab22d450b9ccbad8d3023d7ec",
            "placeholder": "​",
            "style": "IPY_MODEL_f136db5ca9f0495bb104e7109196855d",
            "tabbable": null,
            "tooltip": null,
            "value": "Sanity Checking DataLoader 0: 100%"
          }
        },
        "f6be40cf61d04df68f57733b7e941055": {
          "model_module": "@jupyter-widgets/controls",
          "model_name": "FloatProgressModel",
          "model_module_version": "2.0.0",
          "state": {
            "_dom_classes": [],
            "_model_module": "@jupyter-widgets/controls",
            "_model_module_version": "2.0.0",
            "_model_name": "FloatProgressModel",
            "_view_count": null,
            "_view_module": "@jupyter-widgets/controls",
            "_view_module_version": "2.0.0",
            "_view_name": "ProgressView",
            "bar_style": "",
            "description": "",
            "description_allow_html": false,
            "layout": "IPY_MODEL_dca05024c96a49628c5fb2a3e95cac4c",
            "max": 1,
            "min": 0,
            "orientation": "horizontal",
            "style": "IPY_MODEL_026a20972e704a19aa99c30cd674e762",
            "tabbable": null,
            "tooltip": null,
            "value": 1
          }
        },
        "580e92f247c1439ea17abb731fe11429": {
          "model_module": "@jupyter-widgets/controls",
          "model_name": "HTMLModel",
          "model_module_version": "2.0.0",
          "state": {
            "_dom_classes": [],
            "_model_module": "@jupyter-widgets/controls",
            "_model_module_version": "2.0.0",
            "_model_name": "HTMLModel",
            "_view_count": null,
            "_view_module": "@jupyter-widgets/controls",
            "_view_module_version": "2.0.0",
            "_view_name": "HTMLView",
            "description": "",
            "description_allow_html": false,
            "layout": "IPY_MODEL_e24123724681469f90ced7bfe0ea84e9",
            "placeholder": "​",
            "style": "IPY_MODEL_e01410528af849c08ea04fc878e68dfb",
            "tabbable": null,
            "tooltip": null,
            "value": " 1/1 [00:00&lt;00:00, 1375.63it/s]"
          }
        },
        "db66a49e20944f3989455a0971336445": {
          "model_module": "@jupyter-widgets/base",
          "model_name": "LayoutModel",
          "model_module_version": "2.0.0",
          "state": {
            "_model_module": "@jupyter-widgets/base",
            "_model_module_version": "2.0.0",
            "_model_name": "LayoutModel",
            "_view_count": null,
            "_view_module": "@jupyter-widgets/base",
            "_view_module_version": "2.0.0",
            "_view_name": "LayoutView",
            "align_content": null,
            "align_items": null,
            "align_self": null,
            "border_bottom": null,
            "border_left": null,
            "border_right": null,
            "border_top": null,
            "bottom": null,
            "display": "inline-flex",
            "flex": null,
            "flex_flow": "row wrap",
            "grid_area": null,
            "grid_auto_columns": null,
            "grid_auto_flow": null,
            "grid_auto_rows": null,
            "grid_column": null,
            "grid_gap": null,
            "grid_row": null,
            "grid_template_areas": null,
            "grid_template_columns": null,
            "grid_template_rows": null,
            "height": null,
            "justify_content": null,
            "justify_items": null,
            "left": null,
            "margin": null,
            "max_height": null,
            "max_width": null,
            "min_height": null,
            "min_width": null,
            "object_fit": null,
            "object_position": null,
            "order": null,
            "overflow": null,
            "padding": null,
            "right": null,
            "top": null,
            "visibility": "hidden",
            "width": "100%"
          }
        },
        "0bfc8bdab22d450b9ccbad8d3023d7ec": {
          "model_module": "@jupyter-widgets/base",
          "model_name": "LayoutModel",
          "model_module_version": "2.0.0",
          "state": {
            "_model_module": "@jupyter-widgets/base",
            "_model_module_version": "2.0.0",
            "_model_name": "LayoutModel",
            "_view_count": null,
            "_view_module": "@jupyter-widgets/base",
            "_view_module_version": "2.0.0",
            "_view_name": "LayoutView",
            "align_content": null,
            "align_items": null,
            "align_self": null,
            "border_bottom": null,
            "border_left": null,
            "border_right": null,
            "border_top": null,
            "bottom": null,
            "display": null,
            "flex": null,
            "flex_flow": null,
            "grid_area": null,
            "grid_auto_columns": null,
            "grid_auto_flow": null,
            "grid_auto_rows": null,
            "grid_column": null,
            "grid_gap": null,
            "grid_row": null,
            "grid_template_areas": null,
            "grid_template_columns": null,
            "grid_template_rows": null,
            "height": null,
            "justify_content": null,
            "justify_items": null,
            "left": null,
            "margin": null,
            "max_height": null,
            "max_width": null,
            "min_height": null,
            "min_width": null,
            "object_fit": null,
            "object_position": null,
            "order": null,
            "overflow": null,
            "padding": null,
            "right": null,
            "top": null,
            "visibility": null,
            "width": null
          }
        },
        "f136db5ca9f0495bb104e7109196855d": {
          "model_module": "@jupyter-widgets/controls",
          "model_name": "HTMLStyleModel",
          "model_module_version": "2.0.0",
          "state": {
            "_model_module": "@jupyter-widgets/controls",
            "_model_module_version": "2.0.0",
            "_model_name": "HTMLStyleModel",
            "_view_count": null,
            "_view_module": "@jupyter-widgets/base",
            "_view_module_version": "2.0.0",
            "_view_name": "StyleView",
            "background": null,
            "description_width": "",
            "font_size": null,
            "text_color": null
          }
        },
        "dca05024c96a49628c5fb2a3e95cac4c": {
          "model_module": "@jupyter-widgets/base",
          "model_name": "LayoutModel",
          "model_module_version": "2.0.0",
          "state": {
            "_model_module": "@jupyter-widgets/base",
            "_model_module_version": "2.0.0",
            "_model_name": "LayoutModel",
            "_view_count": null,
            "_view_module": "@jupyter-widgets/base",
            "_view_module_version": "2.0.0",
            "_view_name": "LayoutView",
            "align_content": null,
            "align_items": null,
            "align_self": null,
            "border_bottom": null,
            "border_left": null,
            "border_right": null,
            "border_top": null,
            "bottom": null,
            "display": null,
            "flex": "2",
            "flex_flow": null,
            "grid_area": null,
            "grid_auto_columns": null,
            "grid_auto_flow": null,
            "grid_auto_rows": null,
            "grid_column": null,
            "grid_gap": null,
            "grid_row": null,
            "grid_template_areas": null,
            "grid_template_columns": null,
            "grid_template_rows": null,
            "height": null,
            "justify_content": null,
            "justify_items": null,
            "left": null,
            "margin": null,
            "max_height": null,
            "max_width": null,
            "min_height": null,
            "min_width": null,
            "object_fit": null,
            "object_position": null,
            "order": null,
            "overflow": null,
            "padding": null,
            "right": null,
            "top": null,
            "visibility": null,
            "width": null
          }
        },
        "026a20972e704a19aa99c30cd674e762": {
          "model_module": "@jupyter-widgets/controls",
          "model_name": "ProgressStyleModel",
          "model_module_version": "2.0.0",
          "state": {
            "_model_module": "@jupyter-widgets/controls",
            "_model_module_version": "2.0.0",
            "_model_name": "ProgressStyleModel",
            "_view_count": null,
            "_view_module": "@jupyter-widgets/base",
            "_view_module_version": "2.0.0",
            "_view_name": "StyleView",
            "bar_color": null,
            "description_width": ""
          }
        },
        "e24123724681469f90ced7bfe0ea84e9": {
          "model_module": "@jupyter-widgets/base",
          "model_name": "LayoutModel",
          "model_module_version": "2.0.0",
          "state": {
            "_model_module": "@jupyter-widgets/base",
            "_model_module_version": "2.0.0",
            "_model_name": "LayoutModel",
            "_view_count": null,
            "_view_module": "@jupyter-widgets/base",
            "_view_module_version": "2.0.0",
            "_view_name": "LayoutView",
            "align_content": null,
            "align_items": null,
            "align_self": null,
            "border_bottom": null,
            "border_left": null,
            "border_right": null,
            "border_top": null,
            "bottom": null,
            "display": null,
            "flex": null,
            "flex_flow": null,
            "grid_area": null,
            "grid_auto_columns": null,
            "grid_auto_flow": null,
            "grid_auto_rows": null,
            "grid_column": null,
            "grid_gap": null,
            "grid_row": null,
            "grid_template_areas": null,
            "grid_template_columns": null,
            "grid_template_rows": null,
            "height": null,
            "justify_content": null,
            "justify_items": null,
            "left": null,
            "margin": null,
            "max_height": null,
            "max_width": null,
            "min_height": null,
            "min_width": null,
            "object_fit": null,
            "object_position": null,
            "order": null,
            "overflow": null,
            "padding": null,
            "right": null,
            "top": null,
            "visibility": null,
            "width": null
          }
        },
        "e01410528af849c08ea04fc878e68dfb": {
          "model_module": "@jupyter-widgets/controls",
          "model_name": "HTMLStyleModel",
          "model_module_version": "2.0.0",
          "state": {
            "_model_module": "@jupyter-widgets/controls",
            "_model_module_version": "2.0.0",
            "_model_name": "HTMLStyleModel",
            "_view_count": null,
            "_view_module": "@jupyter-widgets/base",
            "_view_module_version": "2.0.0",
            "_view_name": "StyleView",
            "background": null,
            "description_width": "",
            "font_size": null,
            "text_color": null
          }
        },
        "a90733ed5a1b4eb6b3975b9348e4c81e": {
          "model_module": "@jupyter-widgets/controls",
          "model_name": "HBoxModel",
          "model_module_version": "2.0.0",
          "state": {
            "_dom_classes": [],
            "_model_module": "@jupyter-widgets/controls",
            "_model_module_version": "2.0.0",
            "_model_name": "HBoxModel",
            "_view_count": null,
            "_view_module": "@jupyter-widgets/controls",
            "_view_module_version": "2.0.0",
            "_view_name": "HBoxView",
            "box_style": "",
            "children": [
              "IPY_MODEL_adcc43a0570c44dab872285277b86ee8",
              "IPY_MODEL_19fb8cacdb5f417abcd3649d2b7cdc6b",
              "IPY_MODEL_398edf7663b2455b979b834fd75feed0"
            ],
            "layout": "IPY_MODEL_5ceeed7e8257471a9ea793e2439e61e0",
            "tabbable": null,
            "tooltip": null
          }
        },
        "adcc43a0570c44dab872285277b86ee8": {
          "model_module": "@jupyter-widgets/controls",
          "model_name": "HTMLModel",
          "model_module_version": "2.0.0",
          "state": {
            "_dom_classes": [],
            "_model_module": "@jupyter-widgets/controls",
            "_model_module_version": "2.0.0",
            "_model_name": "HTMLModel",
            "_view_count": null,
            "_view_module": "@jupyter-widgets/controls",
            "_view_module_version": "2.0.0",
            "_view_name": "HTMLView",
            "description": "",
            "description_allow_html": false,
            "layout": "IPY_MODEL_a7e5443938144d949007631d98b1626f",
            "placeholder": "​",
            "style": "IPY_MODEL_bff1afcc8c074a28a472a85ca6481813",
            "tabbable": null,
            "tooltip": null,
            "value": "Epoch 149: 100%"
          }
        },
        "19fb8cacdb5f417abcd3649d2b7cdc6b": {
          "model_module": "@jupyter-widgets/controls",
          "model_name": "FloatProgressModel",
          "model_module_version": "2.0.0",
          "state": {
            "_dom_classes": [],
            "_model_module": "@jupyter-widgets/controls",
            "_model_module_version": "2.0.0",
            "_model_name": "FloatProgressModel",
            "_view_count": null,
            "_view_module": "@jupyter-widgets/controls",
            "_view_module_version": "2.0.0",
            "_view_name": "ProgressView",
            "bar_style": "success",
            "description": "",
            "description_allow_html": false,
            "layout": "IPY_MODEL_cd086bc46dc64e3a9e6ad7444f299c2f",
            "max": 1,
            "min": 0,
            "orientation": "horizontal",
            "style": "IPY_MODEL_c2557659b898439ca6c7bbb9f17160cd",
            "tabbable": null,
            "tooltip": null,
            "value": 1
          }
        },
        "398edf7663b2455b979b834fd75feed0": {
          "model_module": "@jupyter-widgets/controls",
          "model_name": "HTMLModel",
          "model_module_version": "2.0.0",
          "state": {
            "_dom_classes": [],
            "_model_module": "@jupyter-widgets/controls",
            "_model_module_version": "2.0.0",
            "_model_name": "HTMLModel",
            "_view_count": null,
            "_view_module": "@jupyter-widgets/controls",
            "_view_module_version": "2.0.0",
            "_view_name": "HTMLView",
            "description": "",
            "description_allow_html": false,
            "layout": "IPY_MODEL_645738e3bf2a4bf68ea98b60a6aaf291",
            "placeholder": "​",
            "style": "IPY_MODEL_da1bb03f54a9459faddf4d9787815af0",
            "tabbable": null,
            "tooltip": null,
            "value": " 1/1 [00:02&lt;00:00,  0.48it/s, v_num=471, train_loss_step=15.50, train_loss_epoch=15.50]"
          }
        },
        "5ceeed7e8257471a9ea793e2439e61e0": {
          "model_module": "@jupyter-widgets/base",
          "model_name": "LayoutModel",
          "model_module_version": "2.0.0",
          "state": {
            "_model_module": "@jupyter-widgets/base",
            "_model_module_version": "2.0.0",
            "_model_name": "LayoutModel",
            "_view_count": null,
            "_view_module": "@jupyter-widgets/base",
            "_view_module_version": "2.0.0",
            "_view_name": "LayoutView",
            "align_content": null,
            "align_items": null,
            "align_self": null,
            "border_bottom": null,
            "border_left": null,
            "border_right": null,
            "border_top": null,
            "bottom": null,
            "display": "inline-flex",
            "flex": null,
            "flex_flow": "row wrap",
            "grid_area": null,
            "grid_auto_columns": null,
            "grid_auto_flow": null,
            "grid_auto_rows": null,
            "grid_column": null,
            "grid_gap": null,
            "grid_row": null,
            "grid_template_areas": null,
            "grid_template_columns": null,
            "grid_template_rows": null,
            "height": null,
            "justify_content": null,
            "justify_items": null,
            "left": null,
            "margin": null,
            "max_height": null,
            "max_width": null,
            "min_height": null,
            "min_width": null,
            "object_fit": null,
            "object_position": null,
            "order": null,
            "overflow": null,
            "padding": null,
            "right": null,
            "top": null,
            "visibility": null,
            "width": "100%"
          }
        },
        "a7e5443938144d949007631d98b1626f": {
          "model_module": "@jupyter-widgets/base",
          "model_name": "LayoutModel",
          "model_module_version": "2.0.0",
          "state": {
            "_model_module": "@jupyter-widgets/base",
            "_model_module_version": "2.0.0",
            "_model_name": "LayoutModel",
            "_view_count": null,
            "_view_module": "@jupyter-widgets/base",
            "_view_module_version": "2.0.0",
            "_view_name": "LayoutView",
            "align_content": null,
            "align_items": null,
            "align_self": null,
            "border_bottom": null,
            "border_left": null,
            "border_right": null,
            "border_top": null,
            "bottom": null,
            "display": null,
            "flex": null,
            "flex_flow": null,
            "grid_area": null,
            "grid_auto_columns": null,
            "grid_auto_flow": null,
            "grid_auto_rows": null,
            "grid_column": null,
            "grid_gap": null,
            "grid_row": null,
            "grid_template_areas": null,
            "grid_template_columns": null,
            "grid_template_rows": null,
            "height": null,
            "justify_content": null,
            "justify_items": null,
            "left": null,
            "margin": null,
            "max_height": null,
            "max_width": null,
            "min_height": null,
            "min_width": null,
            "object_fit": null,
            "object_position": null,
            "order": null,
            "overflow": null,
            "padding": null,
            "right": null,
            "top": null,
            "visibility": null,
            "width": null
          }
        },
        "bff1afcc8c074a28a472a85ca6481813": {
          "model_module": "@jupyter-widgets/controls",
          "model_name": "HTMLStyleModel",
          "model_module_version": "2.0.0",
          "state": {
            "_model_module": "@jupyter-widgets/controls",
            "_model_module_version": "2.0.0",
            "_model_name": "HTMLStyleModel",
            "_view_count": null,
            "_view_module": "@jupyter-widgets/base",
            "_view_module_version": "2.0.0",
            "_view_name": "StyleView",
            "background": null,
            "description_width": "",
            "font_size": null,
            "text_color": null
          }
        },
        "cd086bc46dc64e3a9e6ad7444f299c2f": {
          "model_module": "@jupyter-widgets/base",
          "model_name": "LayoutModel",
          "model_module_version": "2.0.0",
          "state": {
            "_model_module": "@jupyter-widgets/base",
            "_model_module_version": "2.0.0",
            "_model_name": "LayoutModel",
            "_view_count": null,
            "_view_module": "@jupyter-widgets/base",
            "_view_module_version": "2.0.0",
            "_view_name": "LayoutView",
            "align_content": null,
            "align_items": null,
            "align_self": null,
            "border_bottom": null,
            "border_left": null,
            "border_right": null,
            "border_top": null,
            "bottom": null,
            "display": null,
            "flex": "2",
            "flex_flow": null,
            "grid_area": null,
            "grid_auto_columns": null,
            "grid_auto_flow": null,
            "grid_auto_rows": null,
            "grid_column": null,
            "grid_gap": null,
            "grid_row": null,
            "grid_template_areas": null,
            "grid_template_columns": null,
            "grid_template_rows": null,
            "height": null,
            "justify_content": null,
            "justify_items": null,
            "left": null,
            "margin": null,
            "max_height": null,
            "max_width": null,
            "min_height": null,
            "min_width": null,
            "object_fit": null,
            "object_position": null,
            "order": null,
            "overflow": null,
            "padding": null,
            "right": null,
            "top": null,
            "visibility": null,
            "width": null
          }
        },
        "c2557659b898439ca6c7bbb9f17160cd": {
          "model_module": "@jupyter-widgets/controls",
          "model_name": "ProgressStyleModel",
          "model_module_version": "2.0.0",
          "state": {
            "_model_module": "@jupyter-widgets/controls",
            "_model_module_version": "2.0.0",
            "_model_name": "ProgressStyleModel",
            "_view_count": null,
            "_view_module": "@jupyter-widgets/base",
            "_view_module_version": "2.0.0",
            "_view_name": "StyleView",
            "bar_color": null,
            "description_width": ""
          }
        },
        "645738e3bf2a4bf68ea98b60a6aaf291": {
          "model_module": "@jupyter-widgets/base",
          "model_name": "LayoutModel",
          "model_module_version": "2.0.0",
          "state": {
            "_model_module": "@jupyter-widgets/base",
            "_model_module_version": "2.0.0",
            "_model_name": "LayoutModel",
            "_view_count": null,
            "_view_module": "@jupyter-widgets/base",
            "_view_module_version": "2.0.0",
            "_view_name": "LayoutView",
            "align_content": null,
            "align_items": null,
            "align_self": null,
            "border_bottom": null,
            "border_left": null,
            "border_right": null,
            "border_top": null,
            "bottom": null,
            "display": null,
            "flex": null,
            "flex_flow": null,
            "grid_area": null,
            "grid_auto_columns": null,
            "grid_auto_flow": null,
            "grid_auto_rows": null,
            "grid_column": null,
            "grid_gap": null,
            "grid_row": null,
            "grid_template_areas": null,
            "grid_template_columns": null,
            "grid_template_rows": null,
            "height": null,
            "justify_content": null,
            "justify_items": null,
            "left": null,
            "margin": null,
            "max_height": null,
            "max_width": null,
            "min_height": null,
            "min_width": null,
            "object_fit": null,
            "object_position": null,
            "order": null,
            "overflow": null,
            "padding": null,
            "right": null,
            "top": null,
            "visibility": null,
            "width": null
          }
        },
        "da1bb03f54a9459faddf4d9787815af0": {
          "model_module": "@jupyter-widgets/controls",
          "model_name": "HTMLStyleModel",
          "model_module_version": "2.0.0",
          "state": {
            "_model_module": "@jupyter-widgets/controls",
            "_model_module_version": "2.0.0",
            "_model_name": "HTMLStyleModel",
            "_view_count": null,
            "_view_module": "@jupyter-widgets/base",
            "_view_module_version": "2.0.0",
            "_view_name": "StyleView",
            "background": null,
            "description_width": "",
            "font_size": null,
            "text_color": null
          }
        },
        "f798652d54ab4fd1a717a762a355bc21": {
          "model_module": "@jupyter-widgets/controls",
          "model_name": "HBoxModel",
          "model_module_version": "2.0.0",
          "state": {
            "_dom_classes": [],
            "_model_module": "@jupyter-widgets/controls",
            "_model_module_version": "2.0.0",
            "_model_name": "HBoxModel",
            "_view_count": null,
            "_view_module": "@jupyter-widgets/controls",
            "_view_module_version": "2.0.0",
            "_view_name": "HBoxView",
            "box_style": "",
            "children": [
              "IPY_MODEL_ea4ac4b974a14daab883e0171b1da93f",
              "IPY_MODEL_36bc7fafba92462398296e7be6187a6c",
              "IPY_MODEL_9bd924b3d5ce400aa045449736acdcf0"
            ],
            "layout": "IPY_MODEL_ee3bfe5008f0441ba35ee6c2d4b2d061",
            "tabbable": null,
            "tooltip": null
          }
        },
        "ea4ac4b974a14daab883e0171b1da93f": {
          "model_module": "@jupyter-widgets/controls",
          "model_name": "HTMLModel",
          "model_module_version": "2.0.0",
          "state": {
            "_dom_classes": [],
            "_model_module": "@jupyter-widgets/controls",
            "_model_module_version": "2.0.0",
            "_model_name": "HTMLModel",
            "_view_count": null,
            "_view_module": "@jupyter-widgets/controls",
            "_view_module_version": "2.0.0",
            "_view_name": "HTMLView",
            "description": "",
            "description_allow_html": false,
            "layout": "IPY_MODEL_e6d4d7fbf3664c109f796f30f600ec91",
            "placeholder": "​",
            "style": "IPY_MODEL_0f245432a3a246aeb3c36939235a0784",
            "tabbable": null,
            "tooltip": null,
            "value": "Validation DataLoader 0: 100%"
          }
        },
        "36bc7fafba92462398296e7be6187a6c": {
          "model_module": "@jupyter-widgets/controls",
          "model_name": "FloatProgressModel",
          "model_module_version": "2.0.0",
          "state": {
            "_dom_classes": [],
            "_model_module": "@jupyter-widgets/controls",
            "_model_module_version": "2.0.0",
            "_model_name": "FloatProgressModel",
            "_view_count": null,
            "_view_module": "@jupyter-widgets/controls",
            "_view_module_version": "2.0.0",
            "_view_name": "ProgressView",
            "bar_style": "",
            "description": "",
            "description_allow_html": false,
            "layout": "IPY_MODEL_564b36f4d1f345ad9ef019044e7eac91",
            "max": 1,
            "min": 0,
            "orientation": "horizontal",
            "style": "IPY_MODEL_051db365360f4448b9a1a552209843ec",
            "tabbable": null,
            "tooltip": null,
            "value": 1
          }
        },
        "9bd924b3d5ce400aa045449736acdcf0": {
          "model_module": "@jupyter-widgets/controls",
          "model_name": "HTMLModel",
          "model_module_version": "2.0.0",
          "state": {
            "_dom_classes": [],
            "_model_module": "@jupyter-widgets/controls",
            "_model_module_version": "2.0.0",
            "_model_name": "HTMLModel",
            "_view_count": null,
            "_view_module": "@jupyter-widgets/controls",
            "_view_module_version": "2.0.0",
            "_view_name": "HTMLView",
            "description": "",
            "description_allow_html": false,
            "layout": "IPY_MODEL_44ed3a139d424451bbe0cf97772eb32a",
            "placeholder": "​",
            "style": "IPY_MODEL_1ed34b8ebe9e439b8c5b95cf23b724bf",
            "tabbable": null,
            "tooltip": null,
            "value": " 1/1 [00:00&lt;00:00, 2400.86it/s]"
          }
        },
        "ee3bfe5008f0441ba35ee6c2d4b2d061": {
          "model_module": "@jupyter-widgets/base",
          "model_name": "LayoutModel",
          "model_module_version": "2.0.0",
          "state": {
            "_model_module": "@jupyter-widgets/base",
            "_model_module_version": "2.0.0",
            "_model_name": "LayoutModel",
            "_view_count": null,
            "_view_module": "@jupyter-widgets/base",
            "_view_module_version": "2.0.0",
            "_view_name": "LayoutView",
            "align_content": null,
            "align_items": null,
            "align_self": null,
            "border_bottom": null,
            "border_left": null,
            "border_right": null,
            "border_top": null,
            "bottom": null,
            "display": "inline-flex",
            "flex": null,
            "flex_flow": "row wrap",
            "grid_area": null,
            "grid_auto_columns": null,
            "grid_auto_flow": null,
            "grid_auto_rows": null,
            "grid_column": null,
            "grid_gap": null,
            "grid_row": null,
            "grid_template_areas": null,
            "grid_template_columns": null,
            "grid_template_rows": null,
            "height": null,
            "justify_content": null,
            "justify_items": null,
            "left": null,
            "margin": null,
            "max_height": null,
            "max_width": null,
            "min_height": null,
            "min_width": null,
            "object_fit": null,
            "object_position": null,
            "order": null,
            "overflow": null,
            "padding": null,
            "right": null,
            "top": null,
            "visibility": "hidden",
            "width": "100%"
          }
        },
        "e6d4d7fbf3664c109f796f30f600ec91": {
          "model_module": "@jupyter-widgets/base",
          "model_name": "LayoutModel",
          "model_module_version": "2.0.0",
          "state": {
            "_model_module": "@jupyter-widgets/base",
            "_model_module_version": "2.0.0",
            "_model_name": "LayoutModel",
            "_view_count": null,
            "_view_module": "@jupyter-widgets/base",
            "_view_module_version": "2.0.0",
            "_view_name": "LayoutView",
            "align_content": null,
            "align_items": null,
            "align_self": null,
            "border_bottom": null,
            "border_left": null,
            "border_right": null,
            "border_top": null,
            "bottom": null,
            "display": null,
            "flex": null,
            "flex_flow": null,
            "grid_area": null,
            "grid_auto_columns": null,
            "grid_auto_flow": null,
            "grid_auto_rows": null,
            "grid_column": null,
            "grid_gap": null,
            "grid_row": null,
            "grid_template_areas": null,
            "grid_template_columns": null,
            "grid_template_rows": null,
            "height": null,
            "justify_content": null,
            "justify_items": null,
            "left": null,
            "margin": null,
            "max_height": null,
            "max_width": null,
            "min_height": null,
            "min_width": null,
            "object_fit": null,
            "object_position": null,
            "order": null,
            "overflow": null,
            "padding": null,
            "right": null,
            "top": null,
            "visibility": null,
            "width": null
          }
        },
        "0f245432a3a246aeb3c36939235a0784": {
          "model_module": "@jupyter-widgets/controls",
          "model_name": "HTMLStyleModel",
          "model_module_version": "2.0.0",
          "state": {
            "_model_module": "@jupyter-widgets/controls",
            "_model_module_version": "2.0.0",
            "_model_name": "HTMLStyleModel",
            "_view_count": null,
            "_view_module": "@jupyter-widgets/base",
            "_view_module_version": "2.0.0",
            "_view_name": "StyleView",
            "background": null,
            "description_width": "",
            "font_size": null,
            "text_color": null
          }
        },
        "564b36f4d1f345ad9ef019044e7eac91": {
          "model_module": "@jupyter-widgets/base",
          "model_name": "LayoutModel",
          "model_module_version": "2.0.0",
          "state": {
            "_model_module": "@jupyter-widgets/base",
            "_model_module_version": "2.0.0",
            "_model_name": "LayoutModel",
            "_view_count": null,
            "_view_module": "@jupyter-widgets/base",
            "_view_module_version": "2.0.0",
            "_view_name": "LayoutView",
            "align_content": null,
            "align_items": null,
            "align_self": null,
            "border_bottom": null,
            "border_left": null,
            "border_right": null,
            "border_top": null,
            "bottom": null,
            "display": null,
            "flex": "2",
            "flex_flow": null,
            "grid_area": null,
            "grid_auto_columns": null,
            "grid_auto_flow": null,
            "grid_auto_rows": null,
            "grid_column": null,
            "grid_gap": null,
            "grid_row": null,
            "grid_template_areas": null,
            "grid_template_columns": null,
            "grid_template_rows": null,
            "height": null,
            "justify_content": null,
            "justify_items": null,
            "left": null,
            "margin": null,
            "max_height": null,
            "max_width": null,
            "min_height": null,
            "min_width": null,
            "object_fit": null,
            "object_position": null,
            "order": null,
            "overflow": null,
            "padding": null,
            "right": null,
            "top": null,
            "visibility": null,
            "width": null
          }
        },
        "051db365360f4448b9a1a552209843ec": {
          "model_module": "@jupyter-widgets/controls",
          "model_name": "ProgressStyleModel",
          "model_module_version": "2.0.0",
          "state": {
            "_model_module": "@jupyter-widgets/controls",
            "_model_module_version": "2.0.0",
            "_model_name": "ProgressStyleModel",
            "_view_count": null,
            "_view_module": "@jupyter-widgets/base",
            "_view_module_version": "2.0.0",
            "_view_name": "StyleView",
            "bar_color": null,
            "description_width": ""
          }
        },
        "44ed3a139d424451bbe0cf97772eb32a": {
          "model_module": "@jupyter-widgets/base",
          "model_name": "LayoutModel",
          "model_module_version": "2.0.0",
          "state": {
            "_model_module": "@jupyter-widgets/base",
            "_model_module_version": "2.0.0",
            "_model_name": "LayoutModel",
            "_view_count": null,
            "_view_module": "@jupyter-widgets/base",
            "_view_module_version": "2.0.0",
            "_view_name": "LayoutView",
            "align_content": null,
            "align_items": null,
            "align_self": null,
            "border_bottom": null,
            "border_left": null,
            "border_right": null,
            "border_top": null,
            "bottom": null,
            "display": null,
            "flex": null,
            "flex_flow": null,
            "grid_area": null,
            "grid_auto_columns": null,
            "grid_auto_flow": null,
            "grid_auto_rows": null,
            "grid_column": null,
            "grid_gap": null,
            "grid_row": null,
            "grid_template_areas": null,
            "grid_template_columns": null,
            "grid_template_rows": null,
            "height": null,
            "justify_content": null,
            "justify_items": null,
            "left": null,
            "margin": null,
            "max_height": null,
            "max_width": null,
            "min_height": null,
            "min_width": null,
            "object_fit": null,
            "object_position": null,
            "order": null,
            "overflow": null,
            "padding": null,
            "right": null,
            "top": null,
            "visibility": null,
            "width": null
          }
        },
        "1ed34b8ebe9e439b8c5b95cf23b724bf": {
          "model_module": "@jupyter-widgets/controls",
          "model_name": "HTMLStyleModel",
          "model_module_version": "2.0.0",
          "state": {
            "_model_module": "@jupyter-widgets/controls",
            "_model_module_version": "2.0.0",
            "_model_name": "HTMLStyleModel",
            "_view_count": null,
            "_view_module": "@jupyter-widgets/base",
            "_view_module_version": "2.0.0",
            "_view_name": "StyleView",
            "background": null,
            "description_width": "",
            "font_size": null,
            "text_color": null
          }
        },
        "b78404fb562f4bbc966e8c5d7e059ebe": {
          "model_module": "@jupyter-widgets/controls",
          "model_name": "HBoxModel",
          "model_module_version": "2.0.0",
          "state": {
            "_dom_classes": [],
            "_model_module": "@jupyter-widgets/controls",
            "_model_module_version": "2.0.0",
            "_model_name": "HBoxModel",
            "_view_count": null,
            "_view_module": "@jupyter-widgets/controls",
            "_view_module_version": "2.0.0",
            "_view_name": "HBoxView",
            "box_style": "",
            "children": [
              "IPY_MODEL_567e3e82030542c98d5f64dbc6640599",
              "IPY_MODEL_efb6fb78e4c941bb98a8f0f4564f9cb4",
              "IPY_MODEL_572ecce2d8cd49568687171a6381f3d7"
            ],
            "layout": "IPY_MODEL_b032b0ae5fee4162a21bb7c07492fe63",
            "tabbable": null,
            "tooltip": null
          }
        },
        "567e3e82030542c98d5f64dbc6640599": {
          "model_module": "@jupyter-widgets/controls",
          "model_name": "HTMLModel",
          "model_module_version": "2.0.0",
          "state": {
            "_dom_classes": [],
            "_model_module": "@jupyter-widgets/controls",
            "_model_module_version": "2.0.0",
            "_model_name": "HTMLModel",
            "_view_count": null,
            "_view_module": "@jupyter-widgets/controls",
            "_view_module_version": "2.0.0",
            "_view_name": "HTMLView",
            "description": "",
            "description_allow_html": false,
            "layout": "IPY_MODEL_3d7be5876e5b44539dcdbd017e8c8c30",
            "placeholder": "​",
            "style": "IPY_MODEL_d9ca5625d057406187a61968849a131c",
            "tabbable": null,
            "tooltip": null,
            "value": "Predicting DataLoader 0: 100%"
          }
        },
        "efb6fb78e4c941bb98a8f0f4564f9cb4": {
          "model_module": "@jupyter-widgets/controls",
          "model_name": "FloatProgressModel",
          "model_module_version": "2.0.0",
          "state": {
            "_dom_classes": [],
            "_model_module": "@jupyter-widgets/controls",
            "_model_module_version": "2.0.0",
            "_model_name": "FloatProgressModel",
            "_view_count": null,
            "_view_module": "@jupyter-widgets/controls",
            "_view_module_version": "2.0.0",
            "_view_name": "ProgressView",
            "bar_style": "success",
            "description": "",
            "description_allow_html": false,
            "layout": "IPY_MODEL_7df3910fae99424d8a82103c5234822f",
            "max": 1,
            "min": 0,
            "orientation": "horizontal",
            "style": "IPY_MODEL_585d965735474e63a88b3f4440d47abc",
            "tabbable": null,
            "tooltip": null,
            "value": 1
          }
        },
        "572ecce2d8cd49568687171a6381f3d7": {
          "model_module": "@jupyter-widgets/controls",
          "model_name": "HTMLModel",
          "model_module_version": "2.0.0",
          "state": {
            "_dom_classes": [],
            "_model_module": "@jupyter-widgets/controls",
            "_model_module_version": "2.0.0",
            "_model_name": "HTMLModel",
            "_view_count": null,
            "_view_module": "@jupyter-widgets/controls",
            "_view_module_version": "2.0.0",
            "_view_name": "HTMLView",
            "description": "",
            "description_allow_html": false,
            "layout": "IPY_MODEL_9197a6e900264d438b72452111765f81",
            "placeholder": "​",
            "style": "IPY_MODEL_776521d707694c16b4cb4491bc65c2ec",
            "tabbable": null,
            "tooltip": null,
            "value": " 1/1 [00:00&lt;00:00, 50.76it/s]"
          }
        },
        "b032b0ae5fee4162a21bb7c07492fe63": {
          "model_module": "@jupyter-widgets/base",
          "model_name": "LayoutModel",
          "model_module_version": "2.0.0",
          "state": {
            "_model_module": "@jupyter-widgets/base",
            "_model_module_version": "2.0.0",
            "_model_name": "LayoutModel",
            "_view_count": null,
            "_view_module": "@jupyter-widgets/base",
            "_view_module_version": "2.0.0",
            "_view_name": "LayoutView",
            "align_content": null,
            "align_items": null,
            "align_self": null,
            "border_bottom": null,
            "border_left": null,
            "border_right": null,
            "border_top": null,
            "bottom": null,
            "display": "inline-flex",
            "flex": null,
            "flex_flow": "row wrap",
            "grid_area": null,
            "grid_auto_columns": null,
            "grid_auto_flow": null,
            "grid_auto_rows": null,
            "grid_column": null,
            "grid_gap": null,
            "grid_row": null,
            "grid_template_areas": null,
            "grid_template_columns": null,
            "grid_template_rows": null,
            "height": null,
            "justify_content": null,
            "justify_items": null,
            "left": null,
            "margin": null,
            "max_height": null,
            "max_width": null,
            "min_height": null,
            "min_width": null,
            "object_fit": null,
            "object_position": null,
            "order": null,
            "overflow": null,
            "padding": null,
            "right": null,
            "top": null,
            "visibility": null,
            "width": "100%"
          }
        },
        "3d7be5876e5b44539dcdbd017e8c8c30": {
          "model_module": "@jupyter-widgets/base",
          "model_name": "LayoutModel",
          "model_module_version": "2.0.0",
          "state": {
            "_model_module": "@jupyter-widgets/base",
            "_model_module_version": "2.0.0",
            "_model_name": "LayoutModel",
            "_view_count": null,
            "_view_module": "@jupyter-widgets/base",
            "_view_module_version": "2.0.0",
            "_view_name": "LayoutView",
            "align_content": null,
            "align_items": null,
            "align_self": null,
            "border_bottom": null,
            "border_left": null,
            "border_right": null,
            "border_top": null,
            "bottom": null,
            "display": null,
            "flex": null,
            "flex_flow": null,
            "grid_area": null,
            "grid_auto_columns": null,
            "grid_auto_flow": null,
            "grid_auto_rows": null,
            "grid_column": null,
            "grid_gap": null,
            "grid_row": null,
            "grid_template_areas": null,
            "grid_template_columns": null,
            "grid_template_rows": null,
            "height": null,
            "justify_content": null,
            "justify_items": null,
            "left": null,
            "margin": null,
            "max_height": null,
            "max_width": null,
            "min_height": null,
            "min_width": null,
            "object_fit": null,
            "object_position": null,
            "order": null,
            "overflow": null,
            "padding": null,
            "right": null,
            "top": null,
            "visibility": null,
            "width": null
          }
        },
        "d9ca5625d057406187a61968849a131c": {
          "model_module": "@jupyter-widgets/controls",
          "model_name": "HTMLStyleModel",
          "model_module_version": "2.0.0",
          "state": {
            "_model_module": "@jupyter-widgets/controls",
            "_model_module_version": "2.0.0",
            "_model_name": "HTMLStyleModel",
            "_view_count": null,
            "_view_module": "@jupyter-widgets/base",
            "_view_module_version": "2.0.0",
            "_view_name": "StyleView",
            "background": null,
            "description_width": "",
            "font_size": null,
            "text_color": null
          }
        },
        "7df3910fae99424d8a82103c5234822f": {
          "model_module": "@jupyter-widgets/base",
          "model_name": "LayoutModel",
          "model_module_version": "2.0.0",
          "state": {
            "_model_module": "@jupyter-widgets/base",
            "_model_module_version": "2.0.0",
            "_model_name": "LayoutModel",
            "_view_count": null,
            "_view_module": "@jupyter-widgets/base",
            "_view_module_version": "2.0.0",
            "_view_name": "LayoutView",
            "align_content": null,
            "align_items": null,
            "align_self": null,
            "border_bottom": null,
            "border_left": null,
            "border_right": null,
            "border_top": null,
            "bottom": null,
            "display": null,
            "flex": "2",
            "flex_flow": null,
            "grid_area": null,
            "grid_auto_columns": null,
            "grid_auto_flow": null,
            "grid_auto_rows": null,
            "grid_column": null,
            "grid_gap": null,
            "grid_row": null,
            "grid_template_areas": null,
            "grid_template_columns": null,
            "grid_template_rows": null,
            "height": null,
            "justify_content": null,
            "justify_items": null,
            "left": null,
            "margin": null,
            "max_height": null,
            "max_width": null,
            "min_height": null,
            "min_width": null,
            "object_fit": null,
            "object_position": null,
            "order": null,
            "overflow": null,
            "padding": null,
            "right": null,
            "top": null,
            "visibility": null,
            "width": null
          }
        },
        "585d965735474e63a88b3f4440d47abc": {
          "model_module": "@jupyter-widgets/controls",
          "model_name": "ProgressStyleModel",
          "model_module_version": "2.0.0",
          "state": {
            "_model_module": "@jupyter-widgets/controls",
            "_model_module_version": "2.0.0",
            "_model_name": "ProgressStyleModel",
            "_view_count": null,
            "_view_module": "@jupyter-widgets/base",
            "_view_module_version": "2.0.0",
            "_view_name": "StyleView",
            "bar_color": null,
            "description_width": ""
          }
        },
        "9197a6e900264d438b72452111765f81": {
          "model_module": "@jupyter-widgets/base",
          "model_name": "LayoutModel",
          "model_module_version": "2.0.0",
          "state": {
            "_model_module": "@jupyter-widgets/base",
            "_model_module_version": "2.0.0",
            "_model_name": "LayoutModel",
            "_view_count": null,
            "_view_module": "@jupyter-widgets/base",
            "_view_module_version": "2.0.0",
            "_view_name": "LayoutView",
            "align_content": null,
            "align_items": null,
            "align_self": null,
            "border_bottom": null,
            "border_left": null,
            "border_right": null,
            "border_top": null,
            "bottom": null,
            "display": null,
            "flex": null,
            "flex_flow": null,
            "grid_area": null,
            "grid_auto_columns": null,
            "grid_auto_flow": null,
            "grid_auto_rows": null,
            "grid_column": null,
            "grid_gap": null,
            "grid_row": null,
            "grid_template_areas": null,
            "grid_template_columns": null,
            "grid_template_rows": null,
            "height": null,
            "justify_content": null,
            "justify_items": null,
            "left": null,
            "margin": null,
            "max_height": null,
            "max_width": null,
            "min_height": null,
            "min_width": null,
            "object_fit": null,
            "object_position": null,
            "order": null,
            "overflow": null,
            "padding": null,
            "right": null,
            "top": null,
            "visibility": null,
            "width": null
          }
        },
        "776521d707694c16b4cb4491bc65c2ec": {
          "model_module": "@jupyter-widgets/controls",
          "model_name": "HTMLStyleModel",
          "model_module_version": "2.0.0",
          "state": {
            "_model_module": "@jupyter-widgets/controls",
            "_model_module_version": "2.0.0",
            "_model_name": "HTMLStyleModel",
            "_view_count": null,
            "_view_module": "@jupyter-widgets/base",
            "_view_module_version": "2.0.0",
            "_view_name": "StyleView",
            "background": null,
            "description_width": "",
            "font_size": null,
            "text_color": null
          }
        }
      }
    }
  },
  "cells": [
    {
      "cell_type": "code",
      "execution_count": null,
      "metadata": {
        "id": "cRFoOZgpvRet"
      },
      "outputs": [],
      "source": [
        "# pip install NeuralForecast"
      ]
    },
    {
      "cell_type": "code",
      "source": [
        "import numpy as np\n",
        "import pandas as pd\n",
        "import matplotlib.pyplot as plt\n",
        "from neuralforecast.models import NHITS\n",
        "from neuralforecast import NeuralForecast\n",
        "from neuralforecast.core import NeuralForecast\n",
        "from neuralforecast.models import Informer, Autoformer,NHITS\n",
        "from neuralforecast.models import NBEATS,FEDformer\n",
        "from neuralforecast.losses.numpy import mae,mse\n"
      ],
      "metadata": {
        "id": "SR82_SB-wkKA"
      },
      "execution_count": null,
      "outputs": []
    },
    {
      "cell_type": "code",
      "source": [
        "# from google.colab import drive\n",
        "# drive.mount('/content/drive')"
      ],
      "metadata": {
        "colab": {
          "base_uri": "https://localhost:8080/"
        },
        "id": "9o3MkAgkgbQP",
        "outputId": "b635e486-6758-4dbc-e470-85da197fff56"
      },
      "execution_count": null,
      "outputs": [
        {
          "output_type": "stream",
          "name": "stdout",
          "text": [
            "Drive already mounted at /content/drive; to attempt to forcibly remount, call drive.mount(\"/content/drive\", force_remount=True).\n"
          ]
        }
      ]
    },
    {
      "cell_type": "code",
      "source": [
        "# X_df = pd.read_csv('/content/drive/MyDrive/AML/weather/M/df_x.csv')\n",
        "# Y_df = pd.read_csv('/content/drive/MyDrive/AML/weather/M/df_y.csv')\n",
        "\n",
        "\n",
        "X_df = pd.read_csv('@datasets_reproducibity/weather/M/df_x.csv')\n",
        "Y_df = pd.read_csv('@datasets_reproducibity/weather/M/df_y.csv')"
      ],
      "metadata": {
        "id": "sMaELr6DwpOx"
      },
      "execution_count": null,
      "outputs": []
    },
    {
      "cell_type": "code",
      "source": [
        "X_df"
      ],
      "metadata": {
        "colab": {
          "base_uri": "https://localhost:8080/",
          "height": 423
        },
        "id": "yuHzAurtwwI5",
        "outputId": "0d2787a1-41a8-4ff6-ee70-ccdad03a2cb3"
      },
      "execution_count": null,
      "outputs": [
        {
          "output_type": "execute_result",
          "data": {
            "text/plain": [
              "                        ds  ex_1      ex_2  ex_3  ex_4\n",
              "0      2020-01-01 00:10:00  -0.5 -0.166667  -0.5  -0.5\n",
              "1      2020-01-01 00:20:00  -0.5 -0.166667  -0.5  -0.5\n",
              "2      2020-01-01 00:30:00  -0.5 -0.166667  -0.5  -0.5\n",
              "3      2020-01-01 00:40:00  -0.5 -0.166667  -0.5  -0.5\n",
              "4      2020-01-01 00:50:00  -0.5 -0.166667  -0.5  -0.5\n",
              "...                    ...   ...       ...   ...   ...\n",
              "52690  2020-12-31 23:20:00   0.5  0.000000   0.5   0.5\n",
              "52691  2020-12-31 23:30:00   0.5  0.000000   0.5   0.5\n",
              "52692  2020-12-31 23:40:00   0.5  0.000000   0.5   0.5\n",
              "52693  2020-12-31 23:50:00   0.5  0.000000   0.5   0.5\n",
              "52694  2021-01-01 00:00:00  -0.5  0.166667  -0.5  -0.5\n",
              "\n",
              "[52695 rows x 5 columns]"
            ],
            "text/html": [
              "<div>\n",
              "<style scoped>\n",
              "    .dataframe tbody tr th:only-of-type {\n",
              "        vertical-align: middle;\n",
              "    }\n",
              "\n",
              "    .dataframe tbody tr th {\n",
              "        vertical-align: top;\n",
              "    }\n",
              "\n",
              "    .dataframe thead th {\n",
              "        text-align: right;\n",
              "    }\n",
              "</style>\n",
              "<table border=\"1\" class=\"dataframe\">\n",
              "  <thead>\n",
              "    <tr style=\"text-align: right;\">\n",
              "      <th></th>\n",
              "      <th>ds</th>\n",
              "      <th>ex_1</th>\n",
              "      <th>ex_2</th>\n",
              "      <th>ex_3</th>\n",
              "      <th>ex_4</th>\n",
              "    </tr>\n",
              "  </thead>\n",
              "  <tbody>\n",
              "    <tr>\n",
              "      <th>0</th>\n",
              "      <td>2020-01-01 00:10:00</td>\n",
              "      <td>-0.5</td>\n",
              "      <td>-0.166667</td>\n",
              "      <td>-0.5</td>\n",
              "      <td>-0.5</td>\n",
              "    </tr>\n",
              "    <tr>\n",
              "      <th>1</th>\n",
              "      <td>2020-01-01 00:20:00</td>\n",
              "      <td>-0.5</td>\n",
              "      <td>-0.166667</td>\n",
              "      <td>-0.5</td>\n",
              "      <td>-0.5</td>\n",
              "    </tr>\n",
              "    <tr>\n",
              "      <th>2</th>\n",
              "      <td>2020-01-01 00:30:00</td>\n",
              "      <td>-0.5</td>\n",
              "      <td>-0.166667</td>\n",
              "      <td>-0.5</td>\n",
              "      <td>-0.5</td>\n",
              "    </tr>\n",
              "    <tr>\n",
              "      <th>3</th>\n",
              "      <td>2020-01-01 00:40:00</td>\n",
              "      <td>-0.5</td>\n",
              "      <td>-0.166667</td>\n",
              "      <td>-0.5</td>\n",
              "      <td>-0.5</td>\n",
              "    </tr>\n",
              "    <tr>\n",
              "      <th>4</th>\n",
              "      <td>2020-01-01 00:50:00</td>\n",
              "      <td>-0.5</td>\n",
              "      <td>-0.166667</td>\n",
              "      <td>-0.5</td>\n",
              "      <td>-0.5</td>\n",
              "    </tr>\n",
              "    <tr>\n",
              "      <th>...</th>\n",
              "      <td>...</td>\n",
              "      <td>...</td>\n",
              "      <td>...</td>\n",
              "      <td>...</td>\n",
              "      <td>...</td>\n",
              "    </tr>\n",
              "    <tr>\n",
              "      <th>52690</th>\n",
              "      <td>2020-12-31 23:20:00</td>\n",
              "      <td>0.5</td>\n",
              "      <td>0.000000</td>\n",
              "      <td>0.5</td>\n",
              "      <td>0.5</td>\n",
              "    </tr>\n",
              "    <tr>\n",
              "      <th>52691</th>\n",
              "      <td>2020-12-31 23:30:00</td>\n",
              "      <td>0.5</td>\n",
              "      <td>0.000000</td>\n",
              "      <td>0.5</td>\n",
              "      <td>0.5</td>\n",
              "    </tr>\n",
              "    <tr>\n",
              "      <th>52692</th>\n",
              "      <td>2020-12-31 23:40:00</td>\n",
              "      <td>0.5</td>\n",
              "      <td>0.000000</td>\n",
              "      <td>0.5</td>\n",
              "      <td>0.5</td>\n",
              "    </tr>\n",
              "    <tr>\n",
              "      <th>52693</th>\n",
              "      <td>2020-12-31 23:50:00</td>\n",
              "      <td>0.5</td>\n",
              "      <td>0.000000</td>\n",
              "      <td>0.5</td>\n",
              "      <td>0.5</td>\n",
              "    </tr>\n",
              "    <tr>\n",
              "      <th>52694</th>\n",
              "      <td>2021-01-01 00:00:00</td>\n",
              "      <td>-0.5</td>\n",
              "      <td>0.166667</td>\n",
              "      <td>-0.5</td>\n",
              "      <td>-0.5</td>\n",
              "    </tr>\n",
              "  </tbody>\n",
              "</table>\n",
              "<p>52695 rows × 5 columns</p>\n",
              "</div>"
            ]
          },
          "metadata": {},
          "execution_count": 4
        }
      ]
    },
    {
      "cell_type": "code",
      "source": [
        "a=Y_df['unique_id'].unique()\n",
        "a.size"
      ],
      "metadata": {
        "colab": {
          "base_uri": "https://localhost:8080/"
        },
        "id": "crrL9og7ZQjc",
        "outputId": "37927c31-6414-4bfe-f67d-e4f077608021"
      },
      "execution_count": null,
      "outputs": [
        {
          "output_type": "execute_result",
          "data": {
            "text/plain": [
              "21"
            ]
          },
          "metadata": {},
          "execution_count": 5
        }
      ]
    },
    {
      "cell_type": "code",
      "source": [
        "merged_df = pd.merge(Y_df, X_df[['ds', 'ex_1', 'ex_2','ex_3','ex_4']], on='ds', how='left')\n",
        "merged_df"
      ],
      "metadata": {
        "colab": {
          "base_uri": "https://localhost:8080/",
          "height": 423
        },
        "id": "W_K8VUzMZQ-B",
        "outputId": "e660dfe9-0f37-4e22-f27d-e9a3f29a4a38"
      },
      "execution_count": null,
      "outputs": [
        {
          "output_type": "execute_result",
          "data": {
            "text/plain": [
              "                          ds             unique_id         y  ex_1      ex_2  \\\n",
              "0        2020-01-01 00:10:00              p (mbar)  2.114257  -0.5 -0.166667   \n",
              "1        2020-01-01 00:10:00              T (degC) -1.459980  -0.5 -0.166667   \n",
              "2        2020-01-01 00:10:00              Tpot (K) -1.607935  -0.5 -0.166667   \n",
              "3        2020-01-01 00:10:00           Tdew (degC) -1.052596  -0.5 -0.166667   \n",
              "4        2020-01-01 00:10:00                rh (%)  0.990128  -0.5 -0.166667   \n",
              "...                      ...                   ...       ...   ...       ...   \n",
              "1106590  2021-01-01 00:00:00           SWDR (W/m�) -0.672767  -0.5  0.166667   \n",
              "1106591  2021-01-01 00:00:00       PAR (�mol/m�/s) -0.679493  -0.5  0.166667   \n",
              "1106592  2021-01-01 00:00:00  max. PAR (�mol/m�/s) -0.588296  -0.5  0.166667   \n",
              "1106593  2021-01-01 00:00:00           Tlog (degC) -1.169683  -0.5  0.166667   \n",
              "1106594  2021-01-01 00:00:00                    OT  0.066272  -0.5  0.166667   \n",
              "\n",
              "         ex_3  ex_4  \n",
              "0        -0.5  -0.5  \n",
              "1        -0.5  -0.5  \n",
              "2        -0.5  -0.5  \n",
              "3        -0.5  -0.5  \n",
              "4        -0.5  -0.5  \n",
              "...       ...   ...  \n",
              "1106590  -0.5  -0.5  \n",
              "1106591  -0.5  -0.5  \n",
              "1106592  -0.5  -0.5  \n",
              "1106593  -0.5  -0.5  \n",
              "1106594  -0.5  -0.5  \n",
              "\n",
              "[1106595 rows x 7 columns]"
            ],
            "text/html": [
              "<div>\n",
              "<style scoped>\n",
              "    .dataframe tbody tr th:only-of-type {\n",
              "        vertical-align: middle;\n",
              "    }\n",
              "\n",
              "    .dataframe tbody tr th {\n",
              "        vertical-align: top;\n",
              "    }\n",
              "\n",
              "    .dataframe thead th {\n",
              "        text-align: right;\n",
              "    }\n",
              "</style>\n",
              "<table border=\"1\" class=\"dataframe\">\n",
              "  <thead>\n",
              "    <tr style=\"text-align: right;\">\n",
              "      <th></th>\n",
              "      <th>ds</th>\n",
              "      <th>unique_id</th>\n",
              "      <th>y</th>\n",
              "      <th>ex_1</th>\n",
              "      <th>ex_2</th>\n",
              "      <th>ex_3</th>\n",
              "      <th>ex_4</th>\n",
              "    </tr>\n",
              "  </thead>\n",
              "  <tbody>\n",
              "    <tr>\n",
              "      <th>0</th>\n",
              "      <td>2020-01-01 00:10:00</td>\n",
              "      <td>p (mbar)</td>\n",
              "      <td>2.114257</td>\n",
              "      <td>-0.5</td>\n",
              "      <td>-0.166667</td>\n",
              "      <td>-0.5</td>\n",
              "      <td>-0.5</td>\n",
              "    </tr>\n",
              "    <tr>\n",
              "      <th>1</th>\n",
              "      <td>2020-01-01 00:10:00</td>\n",
              "      <td>T (degC)</td>\n",
              "      <td>-1.459980</td>\n",
              "      <td>-0.5</td>\n",
              "      <td>-0.166667</td>\n",
              "      <td>-0.5</td>\n",
              "      <td>-0.5</td>\n",
              "    </tr>\n",
              "    <tr>\n",
              "      <th>2</th>\n",
              "      <td>2020-01-01 00:10:00</td>\n",
              "      <td>Tpot (K)</td>\n",
              "      <td>-1.607935</td>\n",
              "      <td>-0.5</td>\n",
              "      <td>-0.166667</td>\n",
              "      <td>-0.5</td>\n",
              "      <td>-0.5</td>\n",
              "    </tr>\n",
              "    <tr>\n",
              "      <th>3</th>\n",
              "      <td>2020-01-01 00:10:00</td>\n",
              "      <td>Tdew (degC)</td>\n",
              "      <td>-1.052596</td>\n",
              "      <td>-0.5</td>\n",
              "      <td>-0.166667</td>\n",
              "      <td>-0.5</td>\n",
              "      <td>-0.5</td>\n",
              "    </tr>\n",
              "    <tr>\n",
              "      <th>4</th>\n",
              "      <td>2020-01-01 00:10:00</td>\n",
              "      <td>rh (%)</td>\n",
              "      <td>0.990128</td>\n",
              "      <td>-0.5</td>\n",
              "      <td>-0.166667</td>\n",
              "      <td>-0.5</td>\n",
              "      <td>-0.5</td>\n",
              "    </tr>\n",
              "    <tr>\n",
              "      <th>...</th>\n",
              "      <td>...</td>\n",
              "      <td>...</td>\n",
              "      <td>...</td>\n",
              "      <td>...</td>\n",
              "      <td>...</td>\n",
              "      <td>...</td>\n",
              "      <td>...</td>\n",
              "    </tr>\n",
              "    <tr>\n",
              "      <th>1106590</th>\n",
              "      <td>2021-01-01 00:00:00</td>\n",
              "      <td>SWDR (W/m�)</td>\n",
              "      <td>-0.672767</td>\n",
              "      <td>-0.5</td>\n",
              "      <td>0.166667</td>\n",
              "      <td>-0.5</td>\n",
              "      <td>-0.5</td>\n",
              "    </tr>\n",
              "    <tr>\n",
              "      <th>1106591</th>\n",
              "      <td>2021-01-01 00:00:00</td>\n",
              "      <td>PAR (�mol/m�/s)</td>\n",
              "      <td>-0.679493</td>\n",
              "      <td>-0.5</td>\n",
              "      <td>0.166667</td>\n",
              "      <td>-0.5</td>\n",
              "      <td>-0.5</td>\n",
              "    </tr>\n",
              "    <tr>\n",
              "      <th>1106592</th>\n",
              "      <td>2021-01-01 00:00:00</td>\n",
              "      <td>max. PAR (�mol/m�/s)</td>\n",
              "      <td>-0.588296</td>\n",
              "      <td>-0.5</td>\n",
              "      <td>0.166667</td>\n",
              "      <td>-0.5</td>\n",
              "      <td>-0.5</td>\n",
              "    </tr>\n",
              "    <tr>\n",
              "      <th>1106593</th>\n",
              "      <td>2021-01-01 00:00:00</td>\n",
              "      <td>Tlog (degC)</td>\n",
              "      <td>-1.169683</td>\n",
              "      <td>-0.5</td>\n",
              "      <td>0.166667</td>\n",
              "      <td>-0.5</td>\n",
              "      <td>-0.5</td>\n",
              "    </tr>\n",
              "    <tr>\n",
              "      <th>1106594</th>\n",
              "      <td>2021-01-01 00:00:00</td>\n",
              "      <td>OT</td>\n",
              "      <td>0.066272</td>\n",
              "      <td>-0.5</td>\n",
              "      <td>0.166667</td>\n",
              "      <td>-0.5</td>\n",
              "      <td>-0.5</td>\n",
              "    </tr>\n",
              "  </tbody>\n",
              "</table>\n",
              "<p>1106595 rows × 7 columns</p>\n",
              "</div>"
            ]
          },
          "metadata": {},
          "execution_count": 6
        }
      ]
    },
    {
      "cell_type": "code",
      "source": [
        "filtered_df = merged_df[merged_df['unique_id'] == 'OT']\n",
        "filtered_df.reset_index(drop=True, inplace=True)\n",
        "filtered_df.drop(\"ds\",axis=1,inplace=True)\n",
        "# filtered_df['ds'] = pd.to_datetime(filtered_df['ds'])\n",
        "filtered_df['ds'] = range(len(filtered_df))\n",
        "\n",
        "Y_df=filtered_df\n",
        "Y_df"
      ],
      "metadata": {
        "colab": {
          "base_uri": "https://localhost:8080/",
          "height": 634
        },
        "id": "NR3rClQ9ZSrB",
        "outputId": "08ac277c-c2d3-4145-99f3-80bca5d0709f"
      },
      "execution_count": null,
      "outputs": [
        {
          "output_type": "stream",
          "name": "stderr",
          "text": [
            "/tmp/ipykernel_35879/2816410556.py:3: SettingWithCopyWarning: \n",
            "A value is trying to be set on a copy of a slice from a DataFrame\n",
            "\n",
            "See the caveats in the documentation: https://pandas.pydata.org/pandas-docs/stable/user_guide/indexing.html#returning-a-view-versus-a-copy\n",
            "  filtered_df.drop(\"ds\",axis=1,inplace=True)\n",
            "/tmp/ipykernel_35879/2816410556.py:5: SettingWithCopyWarning: \n",
            "A value is trying to be set on a copy of a slice from a DataFrame.\n",
            "Try using .loc[row_indexer,col_indexer] = value instead\n",
            "\n",
            "See the caveats in the documentation: https://pandas.pydata.org/pandas-docs/stable/user_guide/indexing.html#returning-a-view-versus-a-copy\n",
            "  filtered_df['ds'] = range(len(filtered_df))\n"
          ]
        },
        {
          "output_type": "execute_result",
          "data": {
            "text/plain": [
              "      unique_id         y  ex_1      ex_2  ex_3  ex_4     ds\n",
              "0            OT  0.044395  -0.5 -0.166667  -0.5  -0.5      0\n",
              "1            OT  0.044134  -0.5 -0.166667  -0.5  -0.5      1\n",
              "2            OT  0.043092  -0.5 -0.166667  -0.5  -0.5      2\n",
              "3            OT  0.049343  -0.5 -0.166667  -0.5  -0.5      3\n",
              "4            OT  0.055073  -0.5 -0.166667  -0.5  -0.5      4\n",
              "...         ...       ...   ...       ...   ...   ...    ...\n",
              "52690        OT  0.057157   0.5  0.000000   0.5   0.5  52690\n",
              "52691        OT  0.074346   0.5  0.000000   0.5   0.5  52691\n",
              "52692        OT  0.062886   0.5  0.000000   0.5   0.5  52692\n",
              "52693        OT  0.059501   0.5  0.000000   0.5   0.5  52693\n",
              "52694        OT  0.066272  -0.5  0.166667  -0.5  -0.5  52694\n",
              "\n",
              "[52695 rows x 7 columns]"
            ],
            "text/html": [
              "<div>\n",
              "<style scoped>\n",
              "    .dataframe tbody tr th:only-of-type {\n",
              "        vertical-align: middle;\n",
              "    }\n",
              "\n",
              "    .dataframe tbody tr th {\n",
              "        vertical-align: top;\n",
              "    }\n",
              "\n",
              "    .dataframe thead th {\n",
              "        text-align: right;\n",
              "    }\n",
              "</style>\n",
              "<table border=\"1\" class=\"dataframe\">\n",
              "  <thead>\n",
              "    <tr style=\"text-align: right;\">\n",
              "      <th></th>\n",
              "      <th>unique_id</th>\n",
              "      <th>y</th>\n",
              "      <th>ex_1</th>\n",
              "      <th>ex_2</th>\n",
              "      <th>ex_3</th>\n",
              "      <th>ex_4</th>\n",
              "      <th>ds</th>\n",
              "    </tr>\n",
              "  </thead>\n",
              "  <tbody>\n",
              "    <tr>\n",
              "      <th>0</th>\n",
              "      <td>OT</td>\n",
              "      <td>0.044395</td>\n",
              "      <td>-0.5</td>\n",
              "      <td>-0.166667</td>\n",
              "      <td>-0.5</td>\n",
              "      <td>-0.5</td>\n",
              "      <td>0</td>\n",
              "    </tr>\n",
              "    <tr>\n",
              "      <th>1</th>\n",
              "      <td>OT</td>\n",
              "      <td>0.044134</td>\n",
              "      <td>-0.5</td>\n",
              "      <td>-0.166667</td>\n",
              "      <td>-0.5</td>\n",
              "      <td>-0.5</td>\n",
              "      <td>1</td>\n",
              "    </tr>\n",
              "    <tr>\n",
              "      <th>2</th>\n",
              "      <td>OT</td>\n",
              "      <td>0.043092</td>\n",
              "      <td>-0.5</td>\n",
              "      <td>-0.166667</td>\n",
              "      <td>-0.5</td>\n",
              "      <td>-0.5</td>\n",
              "      <td>2</td>\n",
              "    </tr>\n",
              "    <tr>\n",
              "      <th>3</th>\n",
              "      <td>OT</td>\n",
              "      <td>0.049343</td>\n",
              "      <td>-0.5</td>\n",
              "      <td>-0.166667</td>\n",
              "      <td>-0.5</td>\n",
              "      <td>-0.5</td>\n",
              "      <td>3</td>\n",
              "    </tr>\n",
              "    <tr>\n",
              "      <th>4</th>\n",
              "      <td>OT</td>\n",
              "      <td>0.055073</td>\n",
              "      <td>-0.5</td>\n",
              "      <td>-0.166667</td>\n",
              "      <td>-0.5</td>\n",
              "      <td>-0.5</td>\n",
              "      <td>4</td>\n",
              "    </tr>\n",
              "    <tr>\n",
              "      <th>...</th>\n",
              "      <td>...</td>\n",
              "      <td>...</td>\n",
              "      <td>...</td>\n",
              "      <td>...</td>\n",
              "      <td>...</td>\n",
              "      <td>...</td>\n",
              "      <td>...</td>\n",
              "    </tr>\n",
              "    <tr>\n",
              "      <th>52690</th>\n",
              "      <td>OT</td>\n",
              "      <td>0.057157</td>\n",
              "      <td>0.5</td>\n",
              "      <td>0.000000</td>\n",
              "      <td>0.5</td>\n",
              "      <td>0.5</td>\n",
              "      <td>52690</td>\n",
              "    </tr>\n",
              "    <tr>\n",
              "      <th>52691</th>\n",
              "      <td>OT</td>\n",
              "      <td>0.074346</td>\n",
              "      <td>0.5</td>\n",
              "      <td>0.000000</td>\n",
              "      <td>0.5</td>\n",
              "      <td>0.5</td>\n",
              "      <td>52691</td>\n",
              "    </tr>\n",
              "    <tr>\n",
              "      <th>52692</th>\n",
              "      <td>OT</td>\n",
              "      <td>0.062886</td>\n",
              "      <td>0.5</td>\n",
              "      <td>0.000000</td>\n",
              "      <td>0.5</td>\n",
              "      <td>0.5</td>\n",
              "      <td>52692</td>\n",
              "    </tr>\n",
              "    <tr>\n",
              "      <th>52693</th>\n",
              "      <td>OT</td>\n",
              "      <td>0.059501</td>\n",
              "      <td>0.5</td>\n",
              "      <td>0.000000</td>\n",
              "      <td>0.5</td>\n",
              "      <td>0.5</td>\n",
              "      <td>52693</td>\n",
              "    </tr>\n",
              "    <tr>\n",
              "      <th>52694</th>\n",
              "      <td>OT</td>\n",
              "      <td>0.066272</td>\n",
              "      <td>-0.5</td>\n",
              "      <td>0.166667</td>\n",
              "      <td>-0.5</td>\n",
              "      <td>-0.5</td>\n",
              "      <td>52694</td>\n",
              "    </tr>\n",
              "  </tbody>\n",
              "</table>\n",
              "<p>52695 rows × 7 columns</p>\n",
              "</div>"
            ]
          },
          "metadata": {},
          "execution_count": 7
        }
      ]
    },
    {
      "cell_type": "code",
      "source": [
        "Y_df"
      ],
      "metadata": {
        "colab": {
          "base_uri": "https://localhost:8080/",
          "height": 423
        },
        "id": "nw_ijy5mw0rl",
        "outputId": "22f452f2-c5dd-479e-d2a1-9930648cbf08"
      },
      "execution_count": null,
      "outputs": [
        {
          "output_type": "execute_result",
          "data": {
            "text/plain": [
              "      unique_id         y  ex_1      ex_2  ex_3  ex_4     ds\n",
              "0            OT  0.044395  -0.5 -0.166667  -0.5  -0.5      0\n",
              "1            OT  0.044134  -0.5 -0.166667  -0.5  -0.5      1\n",
              "2            OT  0.043092  -0.5 -0.166667  -0.5  -0.5      2\n",
              "3            OT  0.049343  -0.5 -0.166667  -0.5  -0.5      3\n",
              "4            OT  0.055073  -0.5 -0.166667  -0.5  -0.5      4\n",
              "...         ...       ...   ...       ...   ...   ...    ...\n",
              "52690        OT  0.057157   0.5  0.000000   0.5   0.5  52690\n",
              "52691        OT  0.074346   0.5  0.000000   0.5   0.5  52691\n",
              "52692        OT  0.062886   0.5  0.000000   0.5   0.5  52692\n",
              "52693        OT  0.059501   0.5  0.000000   0.5   0.5  52693\n",
              "52694        OT  0.066272  -0.5  0.166667  -0.5  -0.5  52694\n",
              "\n",
              "[52695 rows x 7 columns]"
            ],
            "text/html": [
              "<div>\n",
              "<style scoped>\n",
              "    .dataframe tbody tr th:only-of-type {\n",
              "        vertical-align: middle;\n",
              "    }\n",
              "\n",
              "    .dataframe tbody tr th {\n",
              "        vertical-align: top;\n",
              "    }\n",
              "\n",
              "    .dataframe thead th {\n",
              "        text-align: right;\n",
              "    }\n",
              "</style>\n",
              "<table border=\"1\" class=\"dataframe\">\n",
              "  <thead>\n",
              "    <tr style=\"text-align: right;\">\n",
              "      <th></th>\n",
              "      <th>unique_id</th>\n",
              "      <th>y</th>\n",
              "      <th>ex_1</th>\n",
              "      <th>ex_2</th>\n",
              "      <th>ex_3</th>\n",
              "      <th>ex_4</th>\n",
              "      <th>ds</th>\n",
              "    </tr>\n",
              "  </thead>\n",
              "  <tbody>\n",
              "    <tr>\n",
              "      <th>0</th>\n",
              "      <td>OT</td>\n",
              "      <td>0.044395</td>\n",
              "      <td>-0.5</td>\n",
              "      <td>-0.166667</td>\n",
              "      <td>-0.5</td>\n",
              "      <td>-0.5</td>\n",
              "      <td>0</td>\n",
              "    </tr>\n",
              "    <tr>\n",
              "      <th>1</th>\n",
              "      <td>OT</td>\n",
              "      <td>0.044134</td>\n",
              "      <td>-0.5</td>\n",
              "      <td>-0.166667</td>\n",
              "      <td>-0.5</td>\n",
              "      <td>-0.5</td>\n",
              "      <td>1</td>\n",
              "    </tr>\n",
              "    <tr>\n",
              "      <th>2</th>\n",
              "      <td>OT</td>\n",
              "      <td>0.043092</td>\n",
              "      <td>-0.5</td>\n",
              "      <td>-0.166667</td>\n",
              "      <td>-0.5</td>\n",
              "      <td>-0.5</td>\n",
              "      <td>2</td>\n",
              "    </tr>\n",
              "    <tr>\n",
              "      <th>3</th>\n",
              "      <td>OT</td>\n",
              "      <td>0.049343</td>\n",
              "      <td>-0.5</td>\n",
              "      <td>-0.166667</td>\n",
              "      <td>-0.5</td>\n",
              "      <td>-0.5</td>\n",
              "      <td>3</td>\n",
              "    </tr>\n",
              "    <tr>\n",
              "      <th>4</th>\n",
              "      <td>OT</td>\n",
              "      <td>0.055073</td>\n",
              "      <td>-0.5</td>\n",
              "      <td>-0.166667</td>\n",
              "      <td>-0.5</td>\n",
              "      <td>-0.5</td>\n",
              "      <td>4</td>\n",
              "    </tr>\n",
              "    <tr>\n",
              "      <th>...</th>\n",
              "      <td>...</td>\n",
              "      <td>...</td>\n",
              "      <td>...</td>\n",
              "      <td>...</td>\n",
              "      <td>...</td>\n",
              "      <td>...</td>\n",
              "      <td>...</td>\n",
              "    </tr>\n",
              "    <tr>\n",
              "      <th>52690</th>\n",
              "      <td>OT</td>\n",
              "      <td>0.057157</td>\n",
              "      <td>0.5</td>\n",
              "      <td>0.000000</td>\n",
              "      <td>0.5</td>\n",
              "      <td>0.5</td>\n",
              "      <td>52690</td>\n",
              "    </tr>\n",
              "    <tr>\n",
              "      <th>52691</th>\n",
              "      <td>OT</td>\n",
              "      <td>0.074346</td>\n",
              "      <td>0.5</td>\n",
              "      <td>0.000000</td>\n",
              "      <td>0.5</td>\n",
              "      <td>0.5</td>\n",
              "      <td>52691</td>\n",
              "    </tr>\n",
              "    <tr>\n",
              "      <th>52692</th>\n",
              "      <td>OT</td>\n",
              "      <td>0.062886</td>\n",
              "      <td>0.5</td>\n",
              "      <td>0.000000</td>\n",
              "      <td>0.5</td>\n",
              "      <td>0.5</td>\n",
              "      <td>52692</td>\n",
              "    </tr>\n",
              "    <tr>\n",
              "      <th>52693</th>\n",
              "      <td>OT</td>\n",
              "      <td>0.059501</td>\n",
              "      <td>0.5</td>\n",
              "      <td>0.000000</td>\n",
              "      <td>0.5</td>\n",
              "      <td>0.5</td>\n",
              "      <td>52693</td>\n",
              "    </tr>\n",
              "    <tr>\n",
              "      <th>52694</th>\n",
              "      <td>OT</td>\n",
              "      <td>0.066272</td>\n",
              "      <td>-0.5</td>\n",
              "      <td>0.166667</td>\n",
              "      <td>-0.5</td>\n",
              "      <td>-0.5</td>\n",
              "      <td>52694</td>\n",
              "    </tr>\n",
              "  </tbody>\n",
              "</table>\n",
              "<p>52695 rows × 7 columns</p>\n",
              "</div>"
            ]
          },
          "metadata": {},
          "execution_count": 8
        }
      ]
    },
    {
      "cell_type": "code",
      "source": [
        "Y_df['unique_id'].unique()"
      ],
      "metadata": {
        "colab": {
          "base_uri": "https://localhost:8080/"
        },
        "id": "JCukrVxEw1jv",
        "outputId": "b0bd0360-4042-4fce-b16c-6218a047fe27"
      },
      "execution_count": null,
      "outputs": [
        {
          "output_type": "execute_result",
          "data": {
            "text/plain": [
              "array(['OT'], dtype=object)"
            ]
          },
          "metadata": {},
          "execution_count": 9
        }
      ]
    },
    {
      "cell_type": "code",
      "source": [
        "Y_df"
      ],
      "metadata": {
        "colab": {
          "base_uri": "https://localhost:8080/",
          "height": 423
        },
        "id": "LDR0X6wJw3LG",
        "outputId": "5dcae588-713a-4c93-bd8b-2dad20c43149"
      },
      "execution_count": null,
      "outputs": [
        {
          "output_type": "execute_result",
          "data": {
            "text/plain": [
              "      unique_id         y  ex_1      ex_2  ex_3  ex_4     ds\n",
              "0            OT  0.044395  -0.5 -0.166667  -0.5  -0.5      0\n",
              "1            OT  0.044134  -0.5 -0.166667  -0.5  -0.5      1\n",
              "2            OT  0.043092  -0.5 -0.166667  -0.5  -0.5      2\n",
              "3            OT  0.049343  -0.5 -0.166667  -0.5  -0.5      3\n",
              "4            OT  0.055073  -0.5 -0.166667  -0.5  -0.5      4\n",
              "...         ...       ...   ...       ...   ...   ...    ...\n",
              "52690        OT  0.057157   0.5  0.000000   0.5   0.5  52690\n",
              "52691        OT  0.074346   0.5  0.000000   0.5   0.5  52691\n",
              "52692        OT  0.062886   0.5  0.000000   0.5   0.5  52692\n",
              "52693        OT  0.059501   0.5  0.000000   0.5   0.5  52693\n",
              "52694        OT  0.066272  -0.5  0.166667  -0.5  -0.5  52694\n",
              "\n",
              "[52695 rows x 7 columns]"
            ],
            "text/html": [
              "<div>\n",
              "<style scoped>\n",
              "    .dataframe tbody tr th:only-of-type {\n",
              "        vertical-align: middle;\n",
              "    }\n",
              "\n",
              "    .dataframe tbody tr th {\n",
              "        vertical-align: top;\n",
              "    }\n",
              "\n",
              "    .dataframe thead th {\n",
              "        text-align: right;\n",
              "    }\n",
              "</style>\n",
              "<table border=\"1\" class=\"dataframe\">\n",
              "  <thead>\n",
              "    <tr style=\"text-align: right;\">\n",
              "      <th></th>\n",
              "      <th>unique_id</th>\n",
              "      <th>y</th>\n",
              "      <th>ex_1</th>\n",
              "      <th>ex_2</th>\n",
              "      <th>ex_3</th>\n",
              "      <th>ex_4</th>\n",
              "      <th>ds</th>\n",
              "    </tr>\n",
              "  </thead>\n",
              "  <tbody>\n",
              "    <tr>\n",
              "      <th>0</th>\n",
              "      <td>OT</td>\n",
              "      <td>0.044395</td>\n",
              "      <td>-0.5</td>\n",
              "      <td>-0.166667</td>\n",
              "      <td>-0.5</td>\n",
              "      <td>-0.5</td>\n",
              "      <td>0</td>\n",
              "    </tr>\n",
              "    <tr>\n",
              "      <th>1</th>\n",
              "      <td>OT</td>\n",
              "      <td>0.044134</td>\n",
              "      <td>-0.5</td>\n",
              "      <td>-0.166667</td>\n",
              "      <td>-0.5</td>\n",
              "      <td>-0.5</td>\n",
              "      <td>1</td>\n",
              "    </tr>\n",
              "    <tr>\n",
              "      <th>2</th>\n",
              "      <td>OT</td>\n",
              "      <td>0.043092</td>\n",
              "      <td>-0.5</td>\n",
              "      <td>-0.166667</td>\n",
              "      <td>-0.5</td>\n",
              "      <td>-0.5</td>\n",
              "      <td>2</td>\n",
              "    </tr>\n",
              "    <tr>\n",
              "      <th>3</th>\n",
              "      <td>OT</td>\n",
              "      <td>0.049343</td>\n",
              "      <td>-0.5</td>\n",
              "      <td>-0.166667</td>\n",
              "      <td>-0.5</td>\n",
              "      <td>-0.5</td>\n",
              "      <td>3</td>\n",
              "    </tr>\n",
              "    <tr>\n",
              "      <th>4</th>\n",
              "      <td>OT</td>\n",
              "      <td>0.055073</td>\n",
              "      <td>-0.5</td>\n",
              "      <td>-0.166667</td>\n",
              "      <td>-0.5</td>\n",
              "      <td>-0.5</td>\n",
              "      <td>4</td>\n",
              "    </tr>\n",
              "    <tr>\n",
              "      <th>...</th>\n",
              "      <td>...</td>\n",
              "      <td>...</td>\n",
              "      <td>...</td>\n",
              "      <td>...</td>\n",
              "      <td>...</td>\n",
              "      <td>...</td>\n",
              "      <td>...</td>\n",
              "    </tr>\n",
              "    <tr>\n",
              "      <th>52690</th>\n",
              "      <td>OT</td>\n",
              "      <td>0.057157</td>\n",
              "      <td>0.5</td>\n",
              "      <td>0.000000</td>\n",
              "      <td>0.5</td>\n",
              "      <td>0.5</td>\n",
              "      <td>52690</td>\n",
              "    </tr>\n",
              "    <tr>\n",
              "      <th>52691</th>\n",
              "      <td>OT</td>\n",
              "      <td>0.074346</td>\n",
              "      <td>0.5</td>\n",
              "      <td>0.000000</td>\n",
              "      <td>0.5</td>\n",
              "      <td>0.5</td>\n",
              "      <td>52691</td>\n",
              "    </tr>\n",
              "    <tr>\n",
              "      <th>52692</th>\n",
              "      <td>OT</td>\n",
              "      <td>0.062886</td>\n",
              "      <td>0.5</td>\n",
              "      <td>0.000000</td>\n",
              "      <td>0.5</td>\n",
              "      <td>0.5</td>\n",
              "      <td>52692</td>\n",
              "    </tr>\n",
              "    <tr>\n",
              "      <th>52693</th>\n",
              "      <td>OT</td>\n",
              "      <td>0.059501</td>\n",
              "      <td>0.5</td>\n",
              "      <td>0.000000</td>\n",
              "      <td>0.5</td>\n",
              "      <td>0.5</td>\n",
              "      <td>52693</td>\n",
              "    </tr>\n",
              "    <tr>\n",
              "      <th>52694</th>\n",
              "      <td>OT</td>\n",
              "      <td>0.066272</td>\n",
              "      <td>-0.5</td>\n",
              "      <td>0.166667</td>\n",
              "      <td>-0.5</td>\n",
              "      <td>-0.5</td>\n",
              "      <td>52694</td>\n",
              "    </tr>\n",
              "  </tbody>\n",
              "</table>\n",
              "<p>52695 rows × 7 columns</p>\n",
              "</div>"
            ]
          },
          "metadata": {},
          "execution_count": 10
        }
      ]
    },
    {
      "cell_type": "markdown",
      "source": [
        "## Horizon = 96"
      ],
      "metadata": {
        "id": "k8VDpMGlno__"
      }
    },
    {
      "cell_type": "code",
      "source": [
        "Y_df"
      ],
      "metadata": {
        "id": "XOggT6rzpKqN",
        "colab": {
          "base_uri": "https://localhost:8080/",
          "height": 423
        },
        "outputId": "a4721422-a5c7-4826-ed8d-c2491d1d2c7f"
      },
      "execution_count": null,
      "outputs": [
        {
          "output_type": "execute_result",
          "data": {
            "text/plain": [
              "      unique_id         y  ex_1      ex_2  ex_3  ex_4     ds\n",
              "0            OT  0.044395  -0.5 -0.166667  -0.5  -0.5      0\n",
              "1            OT  0.044134  -0.5 -0.166667  -0.5  -0.5      1\n",
              "2            OT  0.043092  -0.5 -0.166667  -0.5  -0.5      2\n",
              "3            OT  0.049343  -0.5 -0.166667  -0.5  -0.5      3\n",
              "4            OT  0.055073  -0.5 -0.166667  -0.5  -0.5      4\n",
              "...         ...       ...   ...       ...   ...   ...    ...\n",
              "52690        OT  0.057157   0.5  0.000000   0.5   0.5  52690\n",
              "52691        OT  0.074346   0.5  0.000000   0.5   0.5  52691\n",
              "52692        OT  0.062886   0.5  0.000000   0.5   0.5  52692\n",
              "52693        OT  0.059501   0.5  0.000000   0.5   0.5  52693\n",
              "52694        OT  0.066272  -0.5  0.166667  -0.5  -0.5  52694\n",
              "\n",
              "[52695 rows x 7 columns]"
            ],
            "text/html": [
              "<div>\n",
              "<style scoped>\n",
              "    .dataframe tbody tr th:only-of-type {\n",
              "        vertical-align: middle;\n",
              "    }\n",
              "\n",
              "    .dataframe tbody tr th {\n",
              "        vertical-align: top;\n",
              "    }\n",
              "\n",
              "    .dataframe thead th {\n",
              "        text-align: right;\n",
              "    }\n",
              "</style>\n",
              "<table border=\"1\" class=\"dataframe\">\n",
              "  <thead>\n",
              "    <tr style=\"text-align: right;\">\n",
              "      <th></th>\n",
              "      <th>unique_id</th>\n",
              "      <th>y</th>\n",
              "      <th>ex_1</th>\n",
              "      <th>ex_2</th>\n",
              "      <th>ex_3</th>\n",
              "      <th>ex_4</th>\n",
              "      <th>ds</th>\n",
              "    </tr>\n",
              "  </thead>\n",
              "  <tbody>\n",
              "    <tr>\n",
              "      <th>0</th>\n",
              "      <td>OT</td>\n",
              "      <td>0.044395</td>\n",
              "      <td>-0.5</td>\n",
              "      <td>-0.166667</td>\n",
              "      <td>-0.5</td>\n",
              "      <td>-0.5</td>\n",
              "      <td>0</td>\n",
              "    </tr>\n",
              "    <tr>\n",
              "      <th>1</th>\n",
              "      <td>OT</td>\n",
              "      <td>0.044134</td>\n",
              "      <td>-0.5</td>\n",
              "      <td>-0.166667</td>\n",
              "      <td>-0.5</td>\n",
              "      <td>-0.5</td>\n",
              "      <td>1</td>\n",
              "    </tr>\n",
              "    <tr>\n",
              "      <th>2</th>\n",
              "      <td>OT</td>\n",
              "      <td>0.043092</td>\n",
              "      <td>-0.5</td>\n",
              "      <td>-0.166667</td>\n",
              "      <td>-0.5</td>\n",
              "      <td>-0.5</td>\n",
              "      <td>2</td>\n",
              "    </tr>\n",
              "    <tr>\n",
              "      <th>3</th>\n",
              "      <td>OT</td>\n",
              "      <td>0.049343</td>\n",
              "      <td>-0.5</td>\n",
              "      <td>-0.166667</td>\n",
              "      <td>-0.5</td>\n",
              "      <td>-0.5</td>\n",
              "      <td>3</td>\n",
              "    </tr>\n",
              "    <tr>\n",
              "      <th>4</th>\n",
              "      <td>OT</td>\n",
              "      <td>0.055073</td>\n",
              "      <td>-0.5</td>\n",
              "      <td>-0.166667</td>\n",
              "      <td>-0.5</td>\n",
              "      <td>-0.5</td>\n",
              "      <td>4</td>\n",
              "    </tr>\n",
              "    <tr>\n",
              "      <th>...</th>\n",
              "      <td>...</td>\n",
              "      <td>...</td>\n",
              "      <td>...</td>\n",
              "      <td>...</td>\n",
              "      <td>...</td>\n",
              "      <td>...</td>\n",
              "      <td>...</td>\n",
              "    </tr>\n",
              "    <tr>\n",
              "      <th>52690</th>\n",
              "      <td>OT</td>\n",
              "      <td>0.057157</td>\n",
              "      <td>0.5</td>\n",
              "      <td>0.000000</td>\n",
              "      <td>0.5</td>\n",
              "      <td>0.5</td>\n",
              "      <td>52690</td>\n",
              "    </tr>\n",
              "    <tr>\n",
              "      <th>52691</th>\n",
              "      <td>OT</td>\n",
              "      <td>0.074346</td>\n",
              "      <td>0.5</td>\n",
              "      <td>0.000000</td>\n",
              "      <td>0.5</td>\n",
              "      <td>0.5</td>\n",
              "      <td>52691</td>\n",
              "    </tr>\n",
              "    <tr>\n",
              "      <th>52692</th>\n",
              "      <td>OT</td>\n",
              "      <td>0.062886</td>\n",
              "      <td>0.5</td>\n",
              "      <td>0.000000</td>\n",
              "      <td>0.5</td>\n",
              "      <td>0.5</td>\n",
              "      <td>52692</td>\n",
              "    </tr>\n",
              "    <tr>\n",
              "      <th>52693</th>\n",
              "      <td>OT</td>\n",
              "      <td>0.059501</td>\n",
              "      <td>0.5</td>\n",
              "      <td>0.000000</td>\n",
              "      <td>0.5</td>\n",
              "      <td>0.5</td>\n",
              "      <td>52693</td>\n",
              "    </tr>\n",
              "    <tr>\n",
              "      <th>52694</th>\n",
              "      <td>OT</td>\n",
              "      <td>0.066272</td>\n",
              "      <td>-0.5</td>\n",
              "      <td>0.166667</td>\n",
              "      <td>-0.5</td>\n",
              "      <td>-0.5</td>\n",
              "      <td>52694</td>\n",
              "    </tr>\n",
              "  </tbody>\n",
              "</table>\n",
              "<p>52695 rows × 7 columns</p>\n",
              "</div>"
            ]
          },
          "metadata": {},
          "execution_count": 21
        }
      ]
    },
    {
      "cell_type": "code",
      "source": [
        "Y_train_df = Y_df.iloc[:52599,:]\n",
        "Y_test_df = Y_df.iloc[52599:,:]"
      ],
      "metadata": {
        "id": "ZLh94bLfrhBM"
      },
      "execution_count": null,
      "outputs": []
    },
    {
      "cell_type": "code",
      "source": [
        "Y_test_df = Y_test_df.reset_index()"
      ],
      "metadata": {
        "id": "KEkzp6Phzbxb"
      },
      "execution_count": null,
      "outputs": []
    },
    {
      "cell_type": "code",
      "source": [
        "Y_test_df.drop(['index'], axis=1, inplace=True)\n",
        "Y_test_df"
      ],
      "metadata": {
        "id": "fFApLr3MryCD",
        "colab": {
          "base_uri": "https://localhost:8080/",
          "height": 423
        },
        "outputId": "7e90b6a9-9dde-4641-cfbc-dad69e8c8fab"
      },
      "execution_count": null,
      "outputs": [
        {
          "output_type": "execute_result",
          "data": {
            "text/plain": [
              "   unique_id         y      ex_1      ex_2  ex_3  ex_4     ds\n",
              "0         OT  0.048562 -0.152174  0.000000   0.5   0.5  52599\n",
              "1         OT  0.048822 -0.152174  0.000000   0.5   0.5  52600\n",
              "2         OT  0.052469 -0.152174  0.000000   0.5   0.5  52601\n",
              "3         OT  0.055333 -0.152174  0.000000   0.5   0.5  52602\n",
              "4         OT  0.052469 -0.152174  0.000000   0.5   0.5  52603\n",
              "..       ...       ...       ...       ...   ...   ...    ...\n",
              "91        OT  0.057157  0.500000  0.000000   0.5   0.5  52690\n",
              "92        OT  0.074346  0.500000  0.000000   0.5   0.5  52691\n",
              "93        OT  0.062886  0.500000  0.000000   0.5   0.5  52692\n",
              "94        OT  0.059501  0.500000  0.000000   0.5   0.5  52693\n",
              "95        OT  0.066272 -0.500000  0.166667  -0.5  -0.5  52694\n",
              "\n",
              "[96 rows x 7 columns]"
            ],
            "text/html": [
              "<div>\n",
              "<style scoped>\n",
              "    .dataframe tbody tr th:only-of-type {\n",
              "        vertical-align: middle;\n",
              "    }\n",
              "\n",
              "    .dataframe tbody tr th {\n",
              "        vertical-align: top;\n",
              "    }\n",
              "\n",
              "    .dataframe thead th {\n",
              "        text-align: right;\n",
              "    }\n",
              "</style>\n",
              "<table border=\"1\" class=\"dataframe\">\n",
              "  <thead>\n",
              "    <tr style=\"text-align: right;\">\n",
              "      <th></th>\n",
              "      <th>unique_id</th>\n",
              "      <th>y</th>\n",
              "      <th>ex_1</th>\n",
              "      <th>ex_2</th>\n",
              "      <th>ex_3</th>\n",
              "      <th>ex_4</th>\n",
              "      <th>ds</th>\n",
              "    </tr>\n",
              "  </thead>\n",
              "  <tbody>\n",
              "    <tr>\n",
              "      <th>0</th>\n",
              "      <td>OT</td>\n",
              "      <td>0.048562</td>\n",
              "      <td>-0.152174</td>\n",
              "      <td>0.000000</td>\n",
              "      <td>0.5</td>\n",
              "      <td>0.5</td>\n",
              "      <td>52599</td>\n",
              "    </tr>\n",
              "    <tr>\n",
              "      <th>1</th>\n",
              "      <td>OT</td>\n",
              "      <td>0.048822</td>\n",
              "      <td>-0.152174</td>\n",
              "      <td>0.000000</td>\n",
              "      <td>0.5</td>\n",
              "      <td>0.5</td>\n",
              "      <td>52600</td>\n",
              "    </tr>\n",
              "    <tr>\n",
              "      <th>2</th>\n",
              "      <td>OT</td>\n",
              "      <td>0.052469</td>\n",
              "      <td>-0.152174</td>\n",
              "      <td>0.000000</td>\n",
              "      <td>0.5</td>\n",
              "      <td>0.5</td>\n",
              "      <td>52601</td>\n",
              "    </tr>\n",
              "    <tr>\n",
              "      <th>3</th>\n",
              "      <td>OT</td>\n",
              "      <td>0.055333</td>\n",
              "      <td>-0.152174</td>\n",
              "      <td>0.000000</td>\n",
              "      <td>0.5</td>\n",
              "      <td>0.5</td>\n",
              "      <td>52602</td>\n",
              "    </tr>\n",
              "    <tr>\n",
              "      <th>4</th>\n",
              "      <td>OT</td>\n",
              "      <td>0.052469</td>\n",
              "      <td>-0.152174</td>\n",
              "      <td>0.000000</td>\n",
              "      <td>0.5</td>\n",
              "      <td>0.5</td>\n",
              "      <td>52603</td>\n",
              "    </tr>\n",
              "    <tr>\n",
              "      <th>...</th>\n",
              "      <td>...</td>\n",
              "      <td>...</td>\n",
              "      <td>...</td>\n",
              "      <td>...</td>\n",
              "      <td>...</td>\n",
              "      <td>...</td>\n",
              "      <td>...</td>\n",
              "    </tr>\n",
              "    <tr>\n",
              "      <th>91</th>\n",
              "      <td>OT</td>\n",
              "      <td>0.057157</td>\n",
              "      <td>0.500000</td>\n",
              "      <td>0.000000</td>\n",
              "      <td>0.5</td>\n",
              "      <td>0.5</td>\n",
              "      <td>52690</td>\n",
              "    </tr>\n",
              "    <tr>\n",
              "      <th>92</th>\n",
              "      <td>OT</td>\n",
              "      <td>0.074346</td>\n",
              "      <td>0.500000</td>\n",
              "      <td>0.000000</td>\n",
              "      <td>0.5</td>\n",
              "      <td>0.5</td>\n",
              "      <td>52691</td>\n",
              "    </tr>\n",
              "    <tr>\n",
              "      <th>93</th>\n",
              "      <td>OT</td>\n",
              "      <td>0.062886</td>\n",
              "      <td>0.500000</td>\n",
              "      <td>0.000000</td>\n",
              "      <td>0.5</td>\n",
              "      <td>0.5</td>\n",
              "      <td>52692</td>\n",
              "    </tr>\n",
              "    <tr>\n",
              "      <th>94</th>\n",
              "      <td>OT</td>\n",
              "      <td>0.059501</td>\n",
              "      <td>0.500000</td>\n",
              "      <td>0.000000</td>\n",
              "      <td>0.5</td>\n",
              "      <td>0.5</td>\n",
              "      <td>52693</td>\n",
              "    </tr>\n",
              "    <tr>\n",
              "      <th>95</th>\n",
              "      <td>OT</td>\n",
              "      <td>0.066272</td>\n",
              "      <td>-0.500000</td>\n",
              "      <td>0.166667</td>\n",
              "      <td>-0.5</td>\n",
              "      <td>-0.5</td>\n",
              "      <td>52694</td>\n",
              "    </tr>\n",
              "  </tbody>\n",
              "</table>\n",
              "<p>96 rows × 7 columns</p>\n",
              "</div>"
            ]
          },
          "metadata": {},
          "execution_count": 24
        }
      ]
    },
    {
      "cell_type": "code",
      "source": [
        "model = Autoformer(h=96,\n",
        "                 input_size=24,\n",
        "                 scaler_type='robust',\n",
        "                 learning_rate=1e-3,\n",
        "                 max_steps=150,\n",
        "                   )"
      ],
      "metadata": {
        "id": "gQjWnoicnwuo",
        "colab": {
          "base_uri": "https://localhost:8080/"
        },
        "outputId": "afc34c3d-4ea6-4fdb-b9ef-996945699fae"
      },
      "execution_count": null,
      "outputs": [
        {
          "output_type": "stream",
          "name": "stderr",
          "text": [
            "/home/nirmal/anaconda3/lib/python3.11/site-packages/pytorch_lightning/utilities/parsing.py:199: Attribute 'loss' is an instance of `nn.Module` and is already saved during checkpointing. It is recommended to ignore them using `self.save_hyperparameters(ignore=['loss'])`.\n",
            "Seed set to 1\n"
          ]
        }
      ]
    },
    {
      "cell_type": "code",
      "source": [
        "nf = NeuralForecast(\n",
        "    models=[model],\n",
        "    freq=1\n",
        ")"
      ],
      "metadata": {
        "id": "FCwH999sn7xN"
      },
      "execution_count": null,
      "outputs": []
    },
    {
      "cell_type": "code",
      "source": [
        "nf.fit(df=Y_train_df)\n",
        "forecasts = nf.predict()\n"
      ],
      "metadata": {
        "id": "yVTowrPPn-Y9",
        "colab": {
          "base_uri": "https://localhost:8080/",
          "height": 644,
          "referenced_widgets": [
            "b1b4a12724c84bc19ecff4069662fed8",
            "bd408956647c4285af0a821a4794713a",
            "f6be40cf61d04df68f57733b7e941055",
            "580e92f247c1439ea17abb731fe11429",
            "db66a49e20944f3989455a0971336445",
            "0bfc8bdab22d450b9ccbad8d3023d7ec",
            "f136db5ca9f0495bb104e7109196855d",
            "dca05024c96a49628c5fb2a3e95cac4c",
            "026a20972e704a19aa99c30cd674e762",
            "e24123724681469f90ced7bfe0ea84e9",
            "e01410528af849c08ea04fc878e68dfb",
            "a90733ed5a1b4eb6b3975b9348e4c81e",
            "adcc43a0570c44dab872285277b86ee8",
            "19fb8cacdb5f417abcd3649d2b7cdc6b",
            "398edf7663b2455b979b834fd75feed0",
            "5ceeed7e8257471a9ea793e2439e61e0",
            "a7e5443938144d949007631d98b1626f",
            "bff1afcc8c074a28a472a85ca6481813",
            "cd086bc46dc64e3a9e6ad7444f299c2f",
            "c2557659b898439ca6c7bbb9f17160cd",
            "645738e3bf2a4bf68ea98b60a6aaf291",
            "da1bb03f54a9459faddf4d9787815af0",
            "f798652d54ab4fd1a717a762a355bc21",
            "ea4ac4b974a14daab883e0171b1da93f",
            "36bc7fafba92462398296e7be6187a6c",
            "9bd924b3d5ce400aa045449736acdcf0",
            "ee3bfe5008f0441ba35ee6c2d4b2d061",
            "e6d4d7fbf3664c109f796f30f600ec91",
            "0f245432a3a246aeb3c36939235a0784",
            "564b36f4d1f345ad9ef019044e7eac91",
            "051db365360f4448b9a1a552209843ec",
            "44ed3a139d424451bbe0cf97772eb32a",
            "1ed34b8ebe9e439b8c5b95cf23b724bf",
            "b78404fb562f4bbc966e8c5d7e059ebe",
            "567e3e82030542c98d5f64dbc6640599",
            "efb6fb78e4c941bb98a8f0f4564f9cb4",
            "572ecce2d8cd49568687171a6381f3d7",
            "b032b0ae5fee4162a21bb7c07492fe63",
            "3d7be5876e5b44539dcdbd017e8c8c30",
            "d9ca5625d057406187a61968849a131c",
            "7df3910fae99424d8a82103c5234822f",
            "585d965735474e63a88b3f4440d47abc",
            "9197a6e900264d438b72452111765f81",
            "776521d707694c16b4cb4491bc65c2ec"
          ]
        },
        "outputId": "813e1676-a51d-4d42-a406-a2b93f308a12"
      },
      "execution_count": null,
      "outputs": [
        {
          "output_type": "stream",
          "name": "stderr",
          "text": [
            "GPU available: True (cuda), used: True\n",
            "TPU available: False, using: 0 TPU cores\n",
            "IPU available: False, using: 0 IPUs\n",
            "HPU available: False, using: 0 HPUs\n",
            "LOCAL_RANK: 0 - CUDA_VISIBLE_DEVICES: [0]\n",
            "\n",
            "  | Name          | Type          | Params\n",
            "------------------------------------------------\n",
            "0 | loss          | MAE           | 0     \n",
            "1 | padder_train  | ConstantPad1d | 0     \n",
            "2 | scaler        | TemporalNorm  | 0     \n",
            "3 | decomp        | SeriesDecomp  | 0     \n",
            "4 | enc_embedding | DataEmbedding | 384   \n",
            "5 | dec_embedding | DataEmbedding | 384   \n",
            "6 | encoder       | Encoder       | 148 K \n",
            "7 | decoder       | Decoder       | 141 K \n",
            "------------------------------------------------\n",
            "290 K     Trainable params\n",
            "0         Non-trainable params\n",
            "290 K     Total params\n",
            "1.162     Total estimated model params size (MB)\n"
          ]
        },
        {
          "output_type": "display_data",
          "data": {
            "text/plain": [
              "Sanity Checking: |                                                                                | 0/? [00:00…"
            ],
            "application/vnd.jupyter.widget-view+json": {
              "version_major": 2,
              "version_minor": 0,
              "model_id": "b1b4a12724c84bc19ecff4069662fed8"
            }
          },
          "metadata": {}
        },
        {
          "output_type": "stream",
          "name": "stderr",
          "text": [
            "/home/nirmal/anaconda3/lib/python3.11/site-packages/pytorch_lightning/trainer/connectors/data_connector.py:441: The 'val_dataloader' does not have many workers which may be a bottleneck. Consider increasing the value of the `num_workers` argument` to `num_workers=23` in the `DataLoader` to improve performance.\n",
            "/home/nirmal/anaconda3/lib/python3.11/site-packages/pytorch_lightning/trainer/connectors/data_connector.py:441: The 'train_dataloader' does not have many workers which may be a bottleneck. Consider increasing the value of the `num_workers` argument` to `num_workers=23` in the `DataLoader` to improve performance.\n",
            "/home/nirmal/anaconda3/lib/python3.11/site-packages/pytorch_lightning/loops/fit_loop.py:298: The number of training batches (1) is smaller than the logging interval Trainer(log_every_n_steps=50). Set a lower value for log_every_n_steps if you want to see logs for the training epoch.\n"
          ]
        },
        {
          "output_type": "display_data",
          "data": {
            "text/plain": [
              "Training: |                                                                                       | 0/? [00:00…"
            ],
            "application/vnd.jupyter.widget-view+json": {
              "version_major": 2,
              "version_minor": 0,
              "model_id": "a90733ed5a1b4eb6b3975b9348e4c81e"
            }
          },
          "metadata": {}
        },
        {
          "output_type": "display_data",
          "data": {
            "text/plain": [
              "Validation: |                                                                                     | 0/? [00:00…"
            ],
            "application/vnd.jupyter.widget-view+json": {
              "version_major": 2,
              "version_minor": 0,
              "model_id": "f798652d54ab4fd1a717a762a355bc21"
            }
          },
          "metadata": {}
        },
        {
          "output_type": "stream",
          "name": "stderr",
          "text": [
            "`Trainer.fit` stopped: `max_steps=150` reached.\n",
            "/home/nirmal/anaconda3/lib/python3.11/site-packages/neuralforecast/tsdataset.py:92: UserWarning: To copy construct from a tensor, it is recommended to use sourceTensor.clone().detach() or sourceTensor.clone().detach().requires_grad_(True), rather than torch.tensor(sourceTensor).\n",
            "  self.temporal = torch.tensor(temporal, dtype=torch.float)\n",
            "GPU available: True (cuda), used: True\n",
            "TPU available: False, using: 0 TPU cores\n",
            "IPU available: False, using: 0 IPUs\n",
            "HPU available: False, using: 0 HPUs\n",
            "LOCAL_RANK: 0 - CUDA_VISIBLE_DEVICES: [0]\n",
            "/home/nirmal/anaconda3/lib/python3.11/site-packages/pytorch_lightning/trainer/connectors/data_connector.py:441: The 'predict_dataloader' does not have many workers which may be a bottleneck. Consider increasing the value of the `num_workers` argument` to `num_workers=23` in the `DataLoader` to improve performance.\n"
          ]
        },
        {
          "output_type": "display_data",
          "data": {
            "text/plain": [
              "Predicting: |                                                                                     | 0/? [00:00…"
            ],
            "application/vnd.jupyter.widget-view+json": {
              "version_major": 2,
              "version_minor": 0,
              "model_id": "b78404fb562f4bbc966e8c5d7e059ebe"
            }
          },
          "metadata": {}
        },
        {
          "output_type": "stream",
          "name": "stderr",
          "text": [
            "/home/nirmal/anaconda3/lib/python3.11/site-packages/neuralforecast/core.py:184: FutureWarning: In a future version the predictions will have the id as a column. You can set the `NIXTLA_ID_AS_COL` environment variable to adopt the new behavior and to suppress this warning.\n",
            "  warnings.warn(\n"
          ]
        }
      ]
    },
    {
      "cell_type": "code",
      "source": [
        "forecasts['ds'] = [i for i in range(len(forecasts))]\n",
        "forecasts"
      ],
      "metadata": {
        "id": "GlbRPumfwrcl",
        "colab": {
          "base_uri": "https://localhost:8080/",
          "height": 455
        },
        "outputId": "7a995527-ec6b-47fd-f888-8c6bfc0a3507"
      },
      "execution_count": null,
      "outputs": [
        {
          "output_type": "execute_result",
          "data": {
            "text/plain": [
              "           ds  Autoformer\n",
              "unique_id                \n",
              "OT          0    0.031733\n",
              "OT          1    0.027095\n",
              "OT          2    0.031114\n",
              "OT          3    0.035097\n",
              "OT          4    0.042424\n",
              "...        ..         ...\n",
              "OT         91    0.054400\n",
              "OT         92    0.054595\n",
              "OT         93    0.055022\n",
              "OT         94    0.055664\n",
              "OT         95    0.047752\n",
              "\n",
              "[96 rows x 2 columns]"
            ],
            "text/html": [
              "<div>\n",
              "<style scoped>\n",
              "    .dataframe tbody tr th:only-of-type {\n",
              "        vertical-align: middle;\n",
              "    }\n",
              "\n",
              "    .dataframe tbody tr th {\n",
              "        vertical-align: top;\n",
              "    }\n",
              "\n",
              "    .dataframe thead th {\n",
              "        text-align: right;\n",
              "    }\n",
              "</style>\n",
              "<table border=\"1\" class=\"dataframe\">\n",
              "  <thead>\n",
              "    <tr style=\"text-align: right;\">\n",
              "      <th></th>\n",
              "      <th>ds</th>\n",
              "      <th>Autoformer</th>\n",
              "    </tr>\n",
              "    <tr>\n",
              "      <th>unique_id</th>\n",
              "      <th></th>\n",
              "      <th></th>\n",
              "    </tr>\n",
              "  </thead>\n",
              "  <tbody>\n",
              "    <tr>\n",
              "      <th>OT</th>\n",
              "      <td>0</td>\n",
              "      <td>0.031733</td>\n",
              "    </tr>\n",
              "    <tr>\n",
              "      <th>OT</th>\n",
              "      <td>1</td>\n",
              "      <td>0.027095</td>\n",
              "    </tr>\n",
              "    <tr>\n",
              "      <th>OT</th>\n",
              "      <td>2</td>\n",
              "      <td>0.031114</td>\n",
              "    </tr>\n",
              "    <tr>\n",
              "      <th>OT</th>\n",
              "      <td>3</td>\n",
              "      <td>0.035097</td>\n",
              "    </tr>\n",
              "    <tr>\n",
              "      <th>OT</th>\n",
              "      <td>4</td>\n",
              "      <td>0.042424</td>\n",
              "    </tr>\n",
              "    <tr>\n",
              "      <th>...</th>\n",
              "      <td>...</td>\n",
              "      <td>...</td>\n",
              "    </tr>\n",
              "    <tr>\n",
              "      <th>OT</th>\n",
              "      <td>91</td>\n",
              "      <td>0.054400</td>\n",
              "    </tr>\n",
              "    <tr>\n",
              "      <th>OT</th>\n",
              "      <td>92</td>\n",
              "      <td>0.054595</td>\n",
              "    </tr>\n",
              "    <tr>\n",
              "      <th>OT</th>\n",
              "      <td>93</td>\n",
              "      <td>0.055022</td>\n",
              "    </tr>\n",
              "    <tr>\n",
              "      <th>OT</th>\n",
              "      <td>94</td>\n",
              "      <td>0.055664</td>\n",
              "    </tr>\n",
              "    <tr>\n",
              "      <th>OT</th>\n",
              "      <td>95</td>\n",
              "      <td>0.047752</td>\n",
              "    </tr>\n",
              "  </tbody>\n",
              "</table>\n",
              "<p>96 rows × 2 columns</p>\n",
              "</div>"
            ]
          },
          "metadata": {},
          "execution_count": 28
        }
      ]
    },
    {
      "cell_type": "code",
      "source": [
        "fig, ax = plt.subplots(1, 1, figsize = (15, 7))\n",
        "plot_df = forecasts.set_index('ds')\n",
        "Y_test_df[['y']].plot(ax=ax,linewidth=2)\n",
        "plot_df[[ 'Autoformer']].plot(ax=ax, linewidth=2)"
      ],
      "metadata": {
        "id": "ZvZs324dyJg9",
        "colab": {
          "base_uri": "https://localhost:8080/",
          "height": 364
        },
        "outputId": "fbbec551-caaa-4500-a40b-f36fe030e388"
      },
      "execution_count": null,
      "outputs": [
        {
          "output_type": "execute_result",
          "data": {
            "text/plain": [
              "<Axes: xlabel='ds'>"
            ]
          },
          "metadata": {},
          "execution_count": 29
        },
        {
          "output_type": "display_data",
          "data": {
            "text/plain": [
              "<Figure size 1500x700 with 1 Axes>"
            ],
            "image/png": "[encoded data removed]"
          },
          "metadata": {}
        }
      ]
    },
    {
      "cell_type": "code",
      "source": [
        "forecasts=forecasts.set_index('ds')"
      ],
      "metadata": {
        "id": "ZsDkHZftEtfQ"
      },
      "execution_count": null,
      "outputs": []
    },
    {
      "cell_type": "code",
      "source": [
        "from neuralforecast.losses.numpy import mae,mse\n",
        "\n",
        "\n",
        "mae_autoformer = mae(Y_test_df['y'], forecasts['Autoformer'])\n",
        "mse_autoformer = mse(Y_test_df['y'], forecasts['Autoformer'])\n",
        "print(f'Autoformer MAE: {mae_autoformer:.4f}')\n",
        "print(f'Autoformer MSE: {mse_autoformer:.4f}')"
      ],
      "metadata": {
        "id": "YbcfRdpT0bUi",
        "colab": {
          "base_uri": "https://localhost:8080/"
        },
        "outputId": "6bdf1742-3e65-4b4c-be30-3de2fffb209f"
      },
      "execution_count": null,
      "outputs": [
        {
          "output_type": "stream",
          "name": "stdout",
          "text": [
            "Autoformer MAE: 0.0119\n",
            "Autoformer MSE: 0.0002\n"
          ]
        }
      ]
    },
    {
      "cell_type": "markdown",
      "source": [
        "## Horizon = 192"
      ],
      "metadata": {
        "id": "q9w8mLZon180"
      }
    },
    {
      "cell_type": "code",
      "source": [
        "Y_df"
      ],
      "metadata": {
        "id": "8NDf95VRn6HB"
      },
      "execution_count": null,
      "outputs": []
    },
    {
      "cell_type": "code",
      "source": [
        "Y_train_df = Y_df.iloc[:52503,:]\n",
        "Y_test_df = Y_df.iloc[52503:,:]\n",
        "Y_test_df"
      ],
      "metadata": {
        "id": "8Se2obLToBNq"
      },
      "execution_count": null,
      "outputs": []
    },
    {
      "cell_type": "code",
      "source": [
        "Y_test_df = Y_test_df.reset_index()"
      ],
      "metadata": {
        "id": "pwEZr3gNrCfF"
      },
      "execution_count": null,
      "outputs": []
    },
    {
      "cell_type": "code",
      "source": [
        "Y_test_df.drop(['index'], axis=1, inplace=True)\n",
        "Y_test_df"
      ],
      "metadata": {
        "id": "K6jj5IL-rICQ"
      },
      "execution_count": null,
      "outputs": []
    },
    {
      "cell_type": "code",
      "source": [
        "from neuralforecast.losses.numpy import mae,mse\n",
        "model = Autoformer(h=192,\n",
        "                 input_size=24,\n",
        "                #  hidden_size = 16,\n",
        "                #  conv_hidden_size = 32,\n",
        "                #  n_head=2,\n",
        "                 scaler_type='robust',\n",
        "                 learning_rate=1e-3,\n",
        "                 max_steps=1,\n",
        "                #  val_check_steps=50,\n",
        "                #  early_stop_patience_steps=2\n",
        "                   )"
      ],
      "metadata": {
        "id": "x05Hear_oUYJ"
      },
      "execution_count": null,
      "outputs": []
    },
    {
      "cell_type": "code",
      "source": [
        "nf = NeuralForecast(\n",
        "    models=[model],\n",
        "    freq='H'\n",
        ")"
      ],
      "metadata": {
        "id": "nxcomvhmpj5u"
      },
      "execution_count": null,
      "outputs": []
    },
    {
      "cell_type": "code",
      "source": [
        "nf.fit(df=Y_train_df)\n",
        "forecasts = nf.predict()\n"
      ],
      "metadata": {
        "id": "dO6-kXtdprnm"
      },
      "execution_count": null,
      "outputs": []
    },
    {
      "cell_type": "code",
      "source": [
        "forecasts['ds'] = [i for i in range(len(forecasts))]\n",
        "forecasts"
      ],
      "metadata": {
        "id": "EQDl3wi7psqK"
      },
      "execution_count": null,
      "outputs": []
    },
    {
      "cell_type": "code",
      "source": [
        "fig, ax = plt.subplots(1, 1, figsize = (15, 7))\n",
        "plot_df = forecasts.set_index('ds')\n",
        "Y_test_df[['y']].plot(ax=ax,linewidth=2)\n",
        "plot_df[[ 'Autoformer']].plot(ax=ax, linewidth=2)"
      ],
      "metadata": {
        "id": "r9yNulKrpt-B"
      },
      "execution_count": null,
      "outputs": []
    },
    {
      "cell_type": "code",
      "source": [
        "forecasts=forecasts.set_index('ds')"
      ],
      "metadata": {
        "id": "90YnG8SrjKMW"
      },
      "execution_count": null,
      "outputs": []
    },
    {
      "cell_type": "code",
      "source": [
        "from neuralforecast.losses.numpy import mae,mse\n",
        "\n",
        "\n",
        "mae_autoformer = mae(Y_test_df['y'], forecasts['Autoformer'])\n",
        "mse_autoformer = mse(Y_test_df['y'], forecasts['Autoformer'])\n",
        "print(f'Autoformer MAE: {mae_autoformer:.3f}')\n",
        "print(f'Autoformer MSE: {mse_autoformer:.3f}')"
      ],
      "metadata": {
        "id": "-Tn8CQm8pu1X"
      },
      "execution_count": null,
      "outputs": []
    },
    {
      "cell_type": "markdown",
      "source": [
        "## Horizon 336"
      ],
      "metadata": {
        "id": "coY9Wk54pyoX"
      }
    },
    {
      "cell_type": "code",
      "source": [
        "Y_df"
      ],
      "metadata": {
        "id": "8t8h0r6ApyKw"
      },
      "execution_count": null,
      "outputs": []
    },
    {
      "cell_type": "code",
      "source": [
        "Y_train_df = Y_df.iloc[:52359,:]\n",
        "Y_test_df = Y_df.iloc[52359:,:]\n",
        "Y_test_df"
      ],
      "metadata": {
        "id": "A4cq9pCTp_JH"
      },
      "execution_count": null,
      "outputs": []
    },
    {
      "cell_type": "code",
      "source": [
        "Y_test_df = Y_test_df.reset_index()"
      ],
      "metadata": {
        "id": "BO8o5bqArKRQ"
      },
      "execution_count": null,
      "outputs": []
    },
    {
      "cell_type": "code",
      "source": [
        "Y_test_df.drop(['index'], axis=1, inplace=True)\n",
        "Y_test_df"
      ],
      "metadata": {
        "id": "LeJjTo3KrLan"
      },
      "execution_count": null,
      "outputs": []
    },
    {
      "cell_type": "code",
      "source": [
        "from neuralforecast.losses.numpy import mae,mse\n",
        "model = Autoformer(h=336,\n",
        "                 input_size=24,\n",
        "                #  hidden_size = 16,\n",
        "                #  conv_hidden_size = 32,\n",
        "                #  n_head=2,\n",
        "                 scaler_type='robust',\n",
        "                 learning_rate=1e-3,\n",
        "                 max_steps=1,\n",
        "                #  val_check_steps=50,\n",
        "                #  early_stop_patience_steps=2\n",
        "                   )"
      ],
      "metadata": {
        "id": "w9gd1QCRqAVm"
      },
      "execution_count": null,
      "outputs": []
    },
    {
      "cell_type": "code",
      "source": [
        "nf = NeuralForecast(\n",
        "    models=[model],\n",
        "    freq='H'\n",
        ")"
      ],
      "metadata": {
        "id": "lJHj_pwBqCEL"
      },
      "execution_count": null,
      "outputs": []
    },
    {
      "cell_type": "code",
      "source": [
        "nf.fit(df=Y_train_df)\n",
        "forecasts = nf.predict()\n"
      ],
      "metadata": {
        "id": "LpntNsGkqER-"
      },
      "execution_count": null,
      "outputs": []
    },
    {
      "cell_type": "code",
      "source": [
        "forecasts['ds'] = [i for i in range(len(forecasts))]\n",
        "forecasts"
      ],
      "metadata": {
        "id": "s5SrFLOEqF9-"
      },
      "execution_count": null,
      "outputs": []
    },
    {
      "cell_type": "code",
      "source": [
        "fig, ax = plt.subplots(1, 1, figsize = (15, 7))\n",
        "plot_df = forecasts.set_index('ds')\n",
        "Y_test_df[['y']].plot(ax=ax,linewidth=2)\n",
        "plot_df[[ 'Autoformer']].plot(ax=ax, linewidth=2)"
      ],
      "metadata": {
        "id": "zRv93sCdqIhB"
      },
      "execution_count": null,
      "outputs": []
    },
    {
      "cell_type": "code",
      "source": [
        "forecasts=forecasts.set_index('ds')"
      ],
      "metadata": {
        "id": "-ExFnz2kjR4-"
      },
      "execution_count": null,
      "outputs": []
    },
    {
      "cell_type": "code",
      "source": [
        "from neuralforecast.losses.numpy import mae,mse\n",
        "\n",
        "\n",
        "mae_autoformer = mae(Y_test_df['y'], forecasts['Autoformer'])\n",
        "mse_autoformer = mse(Y_test_df['y'], forecasts['Autoformer'])\n",
        "print(f'Autoformer MAE: {mae_autoformer:.3f}')\n",
        "print(f'Autoformer MSE: {mse_autoformer:.3f}')"
      ],
      "metadata": {
        "id": "T3ueJskQqJfX"
      },
      "execution_count": null,
      "outputs": []
    },
    {
      "cell_type": "markdown",
      "source": [
        "## Horizon 720"
      ],
      "metadata": {
        "id": "FhmRa0kDqKdU"
      }
    },
    {
      "cell_type": "code",
      "source": [
        "Y_df"
      ],
      "metadata": {
        "id": "9x5vaspVqN_H"
      },
      "execution_count": null,
      "outputs": []
    },
    {
      "cell_type": "code",
      "source": [
        "Y_train_df = Y_df.iloc[:51975,:]\n",
        "Y_test_df = Y_df.iloc[51975:,:]\n",
        "Y_test_df"
      ],
      "metadata": {
        "id": "hVp5vZNvqQHn"
      },
      "execution_count": null,
      "outputs": []
    },
    {
      "cell_type": "code",
      "source": [
        "Y_test_df = Y_test_df.reset_index()"
      ],
      "metadata": {
        "id": "0r0Ga-p_rM84"
      },
      "execution_count": null,
      "outputs": []
    },
    {
      "cell_type": "code",
      "source": [
        "Y_test_df.drop(['index'], axis=1, inplace=True)\n",
        "Y_test_df"
      ],
      "metadata": {
        "id": "XhaiKCNnrNnu"
      },
      "execution_count": null,
      "outputs": []
    },
    {
      "cell_type": "code",
      "source": [
        "from neuralforecast.losses.numpy import mae,mse\n",
        "model = Autoformer(h=720,\n",
        "                 input_size=24,\n",
        "                #  hidden_size = 16,\n",
        "                #  conv_hidden_size = 32,\n",
        "                #  n_head=2,\n",
        "                 scaler_type='robust',\n",
        "                 learning_rate=1e-3,\n",
        "                 max_steps=1,\n",
        "                #  val_check_steps=50,\n",
        "                #  early_stop_patience_steps=2\n",
        "                   )"
      ],
      "metadata": {
        "id": "5iC__zGyqRcv"
      },
      "execution_count": null,
      "outputs": []
    },
    {
      "cell_type": "code",
      "source": [
        "nf = NeuralForecast(\n",
        "    models=[model],\n",
        "    freq='H'\n",
        ")"
      ],
      "metadata": {
        "id": "Jh3Fvf5mqS7o"
      },
      "execution_count": null,
      "outputs": []
    },
    {
      "cell_type": "code",
      "source": [
        "nf.fit(df=Y_train_df)\n",
        "forecasts = nf.predict()\n"
      ],
      "metadata": {
        "id": "JGhOBIaxqVrn"
      },
      "execution_count": null,
      "outputs": []
    },
    {
      "cell_type": "code",
      "source": [
        "forecasts['ds'] = [i for i in range(len(forecasts))]\n",
        "forecasts"
      ],
      "metadata": {
        "id": "_uWPVSTRqW0h"
      },
      "execution_count": null,
      "outputs": []
    },
    {
      "cell_type": "code",
      "source": [
        "fig, ax = plt.subplots(1, 1, figsize = (15, 7))\n",
        "plot_df = forecasts.set_index('ds')\n",
        "Y_test_df[['y']].plot(ax=ax,linewidth=2)\n",
        "plot_df[[ 'Autoformer']].plot(ax=ax, linewidth=2)"
      ],
      "metadata": {
        "id": "Khq7H_hoqXxe"
      },
      "execution_count": null,
      "outputs": []
    },
    {
      "cell_type": "code",
      "source": [
        "forecasts=forecasts.set_index('ds')"
      ],
      "metadata": {
        "id": "MxBCkyLGjYlu"
      },
      "execution_count": null,
      "outputs": []
    },
    {
      "cell_type": "code",
      "source": [
        "from neuralforecast.losses.numpy import mae,mse\n",
        "\n",
        "\n",
        "mae_autoformer = mae(Y_test_df['y'], forecasts['Autoformer'])\n",
        "mse_autoformer = mse(Y_test_df['y'], forecasts['Autoformer'])\n",
        "print(f'Autoformer MAE: {mae_autoformer:.3f}')\n",
        "print(f'Autoformer MSE: {mse_autoformer:.3f}')"
      ],
      "metadata": {
        "id": "ssQAMBR2qYqs"
      },
      "execution_count": null,
      "outputs": []
    },
    {
      "cell_type": "code",
      "source": [],
      "metadata": {
        "id": "8zen-Nr5jZPW"
      },
      "execution_count": null,
      "outputs": []
    }
  ]
}