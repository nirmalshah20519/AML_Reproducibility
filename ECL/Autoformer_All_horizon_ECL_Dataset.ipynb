{
  "nbformat": 4,
  "nbformat_minor": 0,
  "metadata": {
    "colab": {
      "provenance": [],
      "gpuType": "T4"
    },
    "kernelspec": {
      "name": "python3",
      "display_name": "Python 3"
    },
    "language_info": {
      "name": "python"
    },
    "accelerator": "GPU"
  },
  "cells": [
    {
      "cell_type": "code",
      "source": [
        "%%capture\n",
        "pip install NeuralForecast"
      ],
      "metadata": {
        "id": "65pZ3_Fd6TOe"
      },
      "execution_count": null,
      "outputs": []
    },
    {
      "cell_type": "code",
      "execution_count": null,
      "metadata": {
        "id": "xBBbduM95zI9"
      },
      "outputs": [],
      "source": [
        "\n",
        "import tensorflow as tf\n",
        "physical_devices = tf.config.list_physical_devices('GPU')\n"
      ]
    },
    {
      "cell_type": "code",
      "source": [
        "physical_devices"
      ],
      "metadata": {
        "colab": {
          "base_uri": "https://localhost:8080/"
        },
        "id": "ZPDfzf4F6IZB",
        "outputId": "1c6c99f2-8795-4036-9fd5-7f3887165f0c"
      },
      "execution_count": null,
      "outputs": [
        {
          "output_type": "execute_result",
          "data": {
            "text/plain": [
              "[]"
            ]
          },
          "metadata": {},
          "execution_count": 3
        }
      ]
    },
    {
      "cell_type": "code",
      "source": [
        "import numpy as np\n",
        "import pandas as pd\n",
        "import matplotlib.pyplot as plt\n",
        "from neuralforecast.models import NHITS\n",
        "from neuralforecast import NeuralForecast\n",
        "from neuralforecast.core import NeuralForecast\n",
        "from neuralforecast.models import Informer, Autoformer,NHITS\n",
        "from neuralforecast.models import NBEATS,FEDformer"
      ],
      "metadata": {
        "id": "goqhBdwa6pBJ"
      },
      "execution_count": null,
      "outputs": []
    },
    {
      "cell_type": "code",
      "source": [
        "from google.colab import drive\n",
        "drive.mount('/content/drive')"
      ],
      "metadata": {
        "id": "uZ0HPlg_6ux2"
      },
      "execution_count": null,
      "outputs": []
    },
    {
      "cell_type": "code",
      "source": [
        "X_df = pd.read_csv('/content/drive/MyDrive/AML/ECL/S/df_x.csv')\n",
        "Y_df = pd.read_csv('/content/drive/MyDrive/AML/ECL/S/df_y.csv')"
      ],
      "metadata": {
        "id": "HXFV5Up361qO"
      },
      "execution_count": null,
      "outputs": []
    },
    {
      "cell_type": "code",
      "source": [
        "X_df"
      ],
      "metadata": {
        "id": "Dr-dqlhW7qDd"
      },
      "execution_count": null,
      "outputs": []
    },
    {
      "cell_type": "code",
      "source": [
        "Y_df"
      ],
      "metadata": {
        "id": "qyTrVKOK7qqE"
      },
      "execution_count": null,
      "outputs": []
    },
    {
      "cell_type": "code",
      "source": [
        "Y_df['unique_id'].unique()"
      ],
      "metadata": {
        "id": "llCBWWgH74vn"
      },
      "execution_count": null,
      "outputs": []
    },
    {
      "cell_type": "code",
      "source": [
        "Y_df['ex_1']=X_df['ex_1']\n",
        "Y_df['ex_2']=X_df['ex_2']\n",
        "Y_df['ex_3']=X_df['ex_3']\n",
        "Y_df['ex_4']=X_df['ex_4']\n",
        "\n",
        "Y_df=Y_df.dropna()"
      ],
      "metadata": {
        "id": "WEKkfRgi9i_n"
      },
      "execution_count": null,
      "outputs": []
    },
    {
      "cell_type": "code",
      "source": [
        "Y_df"
      ],
      "metadata": {
        "id": "vtpkR1qD9mxT"
      },
      "execution_count": null,
      "outputs": []
    },
    {
      "cell_type": "code",
      "source": [
        "Y_df['ds'] = pd.to_datetime(Y_df['ds'])\n"
      ],
      "metadata": {
        "id": "0bhZ8YOY9zaL"
      },
      "execution_count": null,
      "outputs": []
    },
    {
      "cell_type": "markdown",
      "source": [
        "## TEMP"
      ],
      "metadata": {
        "id": "fjxVFV2W5gEx"
      }
    },
    {
      "cell_type": "code",
      "source": [
        "# horizon = 192\n",
        "# models = [\n",
        "#           Informer(h=horizon,\n",
        "#                 input_size=horizon,\n",
        "#                 max_steps=1000,\n",
        "#                 val_check_steps=100,\n",
        "#                 early_stop_patience_steps=3),\n",
        "#           Autoformer(h=horizon,\n",
        "#                 input_size=horizon,\n",
        "#                 max_steps=1000,\n",
        "#                 val_check_steps=100,\n",
        "#                 early_stop_patience_steps=3),\n",
        "#           FEDformer(h=horizon,\n",
        "#                 input_size=horizon,\n",
        "#                 max_steps=1000,\n",
        "#                 val_check_steps=100,\n",
        "#                 early_stop_patience_steps=3),\n",
        "#           NBEATS(h=horizon,\n",
        "#                 input_size=horizon,\n",
        "#                 max_steps=1000,\n",
        "#                 val_check_steps=100,\n",
        "#                 early_stop_patience_steps=3),\n",
        "#             NHITS(h = horizon,\n",
        "#                 input_size = horizon,\n",
        "#                 # stat_exog_list=[''],\n",
        "#                 # hist_exog_list = ['system_load'],\n",
        "#                 futr_exog_list=['ex_1','ex_2','ex_3','ex_4'],\n",
        "#                 max_steps=1000,\n",
        "#                 val_check_steps=100,\n",
        "#                 early_stop_patience_steps=3,\n",
        "#                 scaler_type = 'robust')\n",
        "#             ]\n"
      ],
      "metadata": {
        "id": "DBdl73U5EJZp"
      },
      "execution_count": null,
      "outputs": []
    },
    {
      "cell_type": "markdown",
      "source": [
        "# TEMP"
      ],
      "metadata": {
        "id": "Fw8ajUgEIm8L"
      }
    },
    {
      "cell_type": "markdown",
      "source": [
        "### Nhits"
      ],
      "metadata": {
        "id": "osvt-rKxxb5M"
      }
    },
    {
      "cell_type": "code",
      "source": [
        "from joblib import Parallel, delayed\n",
        "import time\n",
        "\n",
        "# Define function for cross-validation\n",
        "def cross_validate_model(model, Y_df, val_size, test_size, n_windows=None):\n",
        "    start = time.time()\n",
        "    nf = NeuralForecast(models=[model], freq='60min')\n",
        "    Y_hat_df = nf.cross_validation(df=Y_df, val_size=val_size, test_size=test_size, n_windows=n_windows)\n",
        "    end = time.time()\n",
        "    tim = (end-start)/60\n",
        "    # print(f\"Cross-validation time for {(end-start)/60:.2f} minutes\")\n",
        "    return Y_hat_df, tim\n",
        "\n",
        "# Define models\n",
        "horizon = 96\n",
        "models = [\n",
        "            NHITS(h = horizon,\n",
        "                input_size = horizon,\n",
        "                # stat_exog_list=[''],\n",
        "                # hist_exog_list = ['system_load'],\n",
        "                futr_exog_list=['ex_1','ex_2','ex_3','ex_4'],\n",
        "                max_steps=1000,\n",
        "                val_check_steps=100,\n",
        "                early_stop_patience_steps=3,\n",
        "                scaler_type = 'robust')\n",
        "            ]\n",
        "\n",
        "# Parallelize cross-validation for each model\n",
        "Results = Parallel(n_jobs=-1)(delayed(cross_validate_model)(model, Y_df, val_size, test_size) for model in models)\n",
        "\n"
      ],
      "metadata": {
        "id": "nmcjWL4THx70"
      },
      "execution_count": null,
      "outputs": []
    },
    {
      "cell_type": "code",
      "source": [
        "print(f\"Cross-validation time for {Results[0][1]} minutes\")"
      ],
      "metadata": {
        "id": "0WFo1VsDIKl5"
      },
      "execution_count": null,
      "outputs": []
    },
    {
      "cell_type": "code",
      "source": [
        "Results"
      ],
      "metadata": {
        "id": "8VM97Y_K2PC1"
      },
      "execution_count": null,
      "outputs": []
    },
    {
      "cell_type": "code",
      "source": [
        "Y_hat_df = Results[0][0]\n",
        "Y_hat_df"
      ],
      "metadata": {
        "id": "fG02V7yQIJUj"
      },
      "execution_count": null,
      "outputs": []
    },
    {
      "cell_type": "code",
      "source": [
        "import matplotlib.pyplot as plt\n",
        "Y_plot = Y_hat_df[Y_hat_df['unique_id']=='OT'] # OT dataset\n",
        "cutoffs = Y_hat_df['cutoff'].unique()[::horizon]\n",
        "Y_plot = Y_plot[Y_hat_df['cutoff'].isin(cutoffs)]\n",
        "\n",
        "plt.figure(figsize=(20,5))\n",
        "plt.plot(Y_plot['ds'], Y_plot['y'], label='True')\n",
        "\n",
        "\n",
        "# plt.plot(Y_plot['ds'], Y_plot['NBEATS'], label='NBEATS')\n",
        "\n",
        "# plt.plot(Y_plot['ds'], Y_plot['FEDformer'], label='FEDformer')\n",
        "\n",
        "plt.plot(Y_plot['ds'], Y_plot['NHITS'], label='NHITS')\n",
        "\n",
        "# plt.plot(Y_plot['ds'], Y_plot['Informer'], label='Informer')\n",
        "\n",
        "# plt.plot(Y_plot['ds'], Y_plot['Autoformer'], label='Autoformer')\n",
        "\n",
        "\n",
        "plt.xlabel('Datestamp')\n",
        "plt.ylabel('OT')\n",
        "plt.grid()\n",
        "plt.legend()"
      ],
      "metadata": {
        "id": "TXBWNBsSxUYb"
      },
      "execution_count": null,
      "outputs": []
    },
    {
      "cell_type": "code",
      "source": [
        "from neuralforecast.losses.numpy import mae,mse\n",
        "\n",
        "# mae_autoformer = mae(Y_hat_df['y'], Y_hat_df['Autoformer'])\n",
        "# mse_autoformer = mse(Y_hat_df['y'], Y_hat_df['Autoformer'])\n",
        "# print(f'Autoformer MAE: {mae_autoformer:.3f}')\n",
        "# print(f'Autoformer MSE: {mse_autoformer:.3f}')\n",
        "\n",
        "\n",
        "# mae_fedformer = mae(Y_hat_df['y'], Y_hat_df['FEDformer'])\n",
        "# mse_fedformer = mse(Y_hat_df['y'], Y_hat_df['FEDformer'])\n",
        "# print(f'FEDformer MAE: {mae_fedformer:.3f}')\n",
        "# print(f'FEDformer MSE: {mse_fedformer:.3f}')\n",
        "\n",
        "# mae_nbeats = mae(Y_hat_df['y'], Y_hat_df['NBEATS'])\n",
        "# mse_nbeats = mse(Y_hat_df['y'], Y_hat_df['NBEATS'])\n",
        "# print(f'NBEATS MAE: {mae_nbeats:.3f}')\n",
        "# print(f'NBEATS MSE: {mse_nbeats:.3f}')\n",
        "\n",
        "mae_nhits = mae(Y_hat_df['y'], Y_hat_df['NHITS'])\n",
        "mse_nhits = mse(Y_hat_df['y'], Y_hat_df['NHITS'])\n",
        "print(f'NHITS MAE: {mae_nhits:.3f}')\n",
        "print(f'NHITS MSE: {mse_nhits:.3f}')\n",
        "\n",
        "# mae_informer = mae(Y_hat_df['y'], Y_hat_df['Informer'])\n",
        "# mse_informer = mse(Y_hat_df['y'], Y_hat_df['Informer'])\n",
        "# print(f'Informer MAE: {mae_informer:.3f}')\n",
        "# print(f'Informer MSE: {mse_informer:.3f}')\n",
        "\n"
      ],
      "metadata": {
        "id": "P2fYUuwExXDX"
      },
      "execution_count": null,
      "outputs": []
    },
    {
      "cell_type": "code",
      "source": [
        "print(A)"
      ],
      "metadata": {
        "id": "K1--ara90_9s"
      },
      "execution_count": null,
      "outputs": []
    },
    {
      "cell_type": "markdown",
      "source": [
        "### Informer"
      ],
      "metadata": {
        "id": "gNuP-FQwxeKH"
      }
    },
    {
      "cell_type": "code",
      "source": [
        "from joblib import Parallel, delayed\n",
        "import time\n",
        "\n",
        "# Define function for cross-validation\n",
        "def cross_validate_model(model, Y_df, val_size, test_size, n_windows=None):\n",
        "    start = time.time()\n",
        "    nf = NeuralForecast(models=[model], freq='15min')\n",
        "    Y_hat_df = nf.cross_validation(df=Y_df, val_size=val_size, test_size=test_size, n_windows=n_windows)\n",
        "    end = time.time()\n",
        "    tim = (end-start)/60\n",
        "    # print(f\"Cross-validation time for {(end-start)/60:.2f} minutes\")\n",
        "    return Y_hat_df, tim\n",
        "\n",
        "# Define models\n",
        "horizon = 192\n",
        "models = [\n",
        "            Informer(h=horizon,\n",
        "                input_size=horizon,\n",
        "                max_steps=1000,\n",
        "                val_check_steps=100,\n",
        "                early_stop_patience_steps=3),\n",
        "            ]\n",
        "\n",
        "# Parallelize cross-validation for each model\n",
        "Results = Parallel(n_jobs=-1)(delayed(cross_validate_model)(model, Y_df, val_size, test_size) for model in models)\n",
        "\n"
      ],
      "metadata": {
        "id": "GKh-Kr_Fxj0B"
      },
      "execution_count": null,
      "outputs": []
    },
    {
      "cell_type": "code",
      "source": [
        "print(f\"Cross-validation time for {Results[0][1]} minutes\")"
      ],
      "metadata": {
        "id": "oxRWzxgVxzJ4"
      },
      "execution_count": null,
      "outputs": []
    },
    {
      "cell_type": "code",
      "source": [
        "Y_hat_df = Results[0][0]"
      ],
      "metadata": {
        "id": "2Ov-12Emx0rf"
      },
      "execution_count": null,
      "outputs": []
    },
    {
      "cell_type": "code",
      "source": [
        "import matplotlib.pyplot as plt\n",
        "Y_plot = Y_hat_df[Y_hat_df['unique_id']=='OT'] # OT dataset\n",
        "cutoffs = Y_hat_df['cutoff'].unique()[::horizon]\n",
        "Y_plot = Y_plot[Y_hat_df['cutoff'].isin(cutoffs)]\n",
        "\n",
        "plt.figure(figsize=(20,5))\n",
        "plt.plot(Y_plot['ds'], Y_plot['y'], label='True')\n",
        "\n",
        "\n",
        "# plt.plot(Y_plot['ds'], Y_plot['NBEATS'], label='NBEATS')\n",
        "\n",
        "# plt.plot(Y_plot['ds'], Y_plot['FEDformer'], label='FEDformer')\n",
        "\n",
        "# plt.plot(Y_plot['ds'], Y_plot['NHITS'], label='NHITS')\n",
        "\n",
        "plt.plot(Y_plot['ds'], Y_plot['Informer'], label='Informer')\n",
        "\n",
        "# plt.plot(Y_plot['ds'], Y_plot['Autoformer'], label='Autoformer')\n",
        "\n",
        "\n",
        "plt.xlabel('Datestamp')\n",
        "plt.ylabel('OT')\n",
        "plt.grid()\n",
        "plt.legend()"
      ],
      "metadata": {
        "id": "VEWb3KDBx3Cq"
      },
      "execution_count": null,
      "outputs": []
    },
    {
      "cell_type": "code",
      "source": [
        "from neuralforecast.losses.numpy import mae,mse\n",
        "\n",
        "# mae_autoformer = mae(Y_hat_df['y'], Y_hat_df['Autoformer'])\n",
        "# mse_autoformer = mse(Y_hat_df['y'], Y_hat_df['Autoformer'])\n",
        "# print(f'Autoformer MAE: {mae_autoformer:.3f}')\n",
        "# print(f'Autoformer MSE: {mse_autoformer:.3f}')\n",
        "\n",
        "\n",
        "# mae_fedformer = mae(Y_hat_df['y'], Y_hat_df['FEDformer'])\n",
        "# mse_fedformer = mse(Y_hat_df['y'], Y_hat_df['FEDformer'])\n",
        "# print(f'FEDformer MAE: {mae_fedformer:.3f}')\n",
        "# print(f'FEDformer MSE: {mse_fedformer:.3f}')\n",
        "\n",
        "# mae_nbeats = mae(Y_hat_df['y'], Y_hat_df['NBEATS'])\n",
        "# mse_nbeats = mse(Y_hat_df['y'], Y_hat_df['NBEATS'])\n",
        "# print(f'NBEATS MAE: {mae_nbeats:.3f}')\n",
        "# print(f'NBEATS MSE: {mse_nbeats:.3f}')\n",
        "\n",
        "# mae_nhits = mae(Y_hat_df['y'], Y_hat_df['NHITS'])\n",
        "# mse_nhits = mse(Y_hat_df['y'], Y_hat_df['NHITS'])\n",
        "# print(f'NHITS MAE: {mae_nhits:.3f}')\n",
        "# print(f'NHITS MSE: {mse_nhits:.3f}')\n",
        "\n",
        "mae_informer = mae(Y_hat_df['y'], Y_hat_df['Informer'])\n",
        "mse_informer = mse(Y_hat_df['y'], Y_hat_df['Informer'])\n",
        "print(f'Informer MAE: {mae_informer:.3f}')\n",
        "print(f'Informer MSE: {mse_informer:.3f}')\n",
        "\n"
      ],
      "metadata": {
        "id": "VOfVEkAfx4Am"
      },
      "execution_count": null,
      "outputs": []
    },
    {
      "cell_type": "markdown",
      "source": [
        "### Autoformer"
      ],
      "metadata": {
        "id": "hHs-kM43x-KG"
      }
    },
    {
      "cell_type": "code",
      "source": [
        "from joblib import Parallel, delayed\n",
        "import time\n",
        "\n",
        "# Define function for cross-validation\n",
        "def cross_validate_model(model, Y_df, val_size, test_size, n_windows=None):\n",
        "    start = time.time()\n",
        "    nf = NeuralForecast(models=[model], freq='15min')\n",
        "    Y_hat_df = nf.cross_validation(df=Y_df, val_size=val_size, test_size=test_size, n_windows=n_windows)\n",
        "    end = time.time()\n",
        "    tim = (end-start)/60\n",
        "    # print(f\"Cross-validation time for {(end-start)/60:.2f} minutes\")\n",
        "    return Y_hat_df, tim\n",
        "\n",
        "# Define models\n",
        "horizon = 192\n",
        "models = [\n",
        "            Autoformer(h=horizon,\n",
        "                input_size=horizon,\n",
        "                max_steps=1000,\n",
        "                val_check_steps=100,\n",
        "                early_stop_patience_steps=3),\n",
        "            ]\n",
        "\n",
        "# Parallelize cross-validation for each model\n",
        "Results = Parallel(n_jobs=-1)(delayed(cross_validate_model)(model, Y_df, val_size, test_size) for model in models)\n",
        "\n"
      ],
      "metadata": {
        "id": "H_JdpoZUyFj3"
      },
      "execution_count": null,
      "outputs": []
    },
    {
      "cell_type": "code",
      "source": [
        "print(f\"Cross-validation time for {Results[0][1]} minutes\")"
      ],
      "metadata": {
        "id": "7G1Z5FAHyFxR"
      },
      "execution_count": null,
      "outputs": []
    },
    {
      "cell_type": "code",
      "source": [
        "Y_hat_df = Results[0][0]"
      ],
      "metadata": {
        "id": "BrIU-tQ3yQB-"
      },
      "execution_count": null,
      "outputs": []
    },
    {
      "cell_type": "code",
      "source": [
        "import matplotlib.pyplot as plt\n",
        "Y_plot = Y_hat_df[Y_hat_df['unique_id']=='OT'] # OT dataset\n",
        "cutoffs = Y_hat_df['cutoff'].unique()[::horizon]\n",
        "Y_plot = Y_plot[Y_hat_df['cutoff'].isin(cutoffs)]\n",
        "\n",
        "plt.figure(figsize=(20,5))\n",
        "plt.plot(Y_plot['ds'], Y_plot['y'], label='True')\n",
        "\n",
        "\n",
        "# plt.plot(Y_plot['ds'], Y_plot['NBEATS'], label='NBEATS')\n",
        "\n",
        "# plt.plot(Y_plot['ds'], Y_plot['FEDformer'], label='FEDformer')\n",
        "\n",
        "# plt.plot(Y_plot['ds'], Y_plot['NHITS'], label='NHITS')\n",
        "\n",
        "# plt.plot(Y_plot['ds'], Y_plot['Informer'], label='Informer')\n",
        "\n",
        "plt.plot(Y_plot['ds'], Y_plot['Autoformer'], label='Autoformer')\n",
        "\n",
        "\n",
        "plt.xlabel('Datestamp')\n",
        "plt.ylabel('OT')\n",
        "plt.grid()\n",
        "plt.legend()"
      ],
      "metadata": {
        "id": "4-Np-WvMyQzd"
      },
      "execution_count": null,
      "outputs": []
    },
    {
      "cell_type": "code",
      "source": [
        "from neuralforecast.losses.numpy import mae,mse\n",
        "\n",
        "mae_autoformer = mae(Y_hat_df['y'], Y_hat_df['Autoformer'])\n",
        "mse_autoformer = mse(Y_hat_df['y'], Y_hat_df['Autoformer'])\n",
        "print(f'Autoformer MAE: {mae_autoformer:.3f}')\n",
        "print(f'Autoformer MSE: {mse_autoformer:.3f}')\n",
        "\n",
        "\n",
        "# mae_fedformer = mae(Y_hat_df['y'], Y_hat_df['FEDformer'])\n",
        "# mse_fedformer = mse(Y_hat_df['y'], Y_hat_df['FEDformer'])\n",
        "# print(f'FEDformer MAE: {mae_fedformer:.3f}')\n",
        "# print(f'FEDformer MSE: {mse_fedformer:.3f}')\n",
        "\n",
        "# mae_nbeats = mae(Y_hat_df['y'], Y_hat_df['NBEATS'])\n",
        "# mse_nbeats = mse(Y_hat_df['y'], Y_hat_df['NBEATS'])\n",
        "# print(f'NBEATS MAE: {mae_nbeats:.3f}')\n",
        "# print(f'NBEATS MSE: {mse_nbeats:.3f}')\n",
        "\n",
        "# mae_nhits = mae(Y_hat_df['y'], Y_hat_df['NHITS'])\n",
        "# mse_nhits = mse(Y_hat_df['y'], Y_hat_df['NHITS'])\n",
        "# print(f'NHITS MAE: {mae_nhits:.3f}')\n",
        "# print(f'NHITS MSE: {mse_nhits:.3f}')\n",
        "\n",
        "# mae_informer = mae(Y_hat_df['y'], Y_hat_df['Informer'])\n",
        "# mse_informer = mse(Y_hat_df['y'], Y_hat_df['Informer'])\n",
        "# print(f'Informer MAE: {mae_informer:.3f}')\n",
        "# print(f'Informer MSE: {mse_informer:.3f}')\n",
        "\n"
      ],
      "metadata": {
        "id": "DyQwSXfsyRou"
      },
      "execution_count": null,
      "outputs": []
    },
    {
      "cell_type": "markdown",
      "source": [
        "### FEDformer"
      ],
      "metadata": {
        "id": "bmwZ0JMjyTi6"
      }
    },
    {
      "cell_type": "code",
      "source": [
        "from joblib import Parallel, delayed\n",
        "import time\n",
        "\n",
        "# Define function for cross-validation\n",
        "def cross_validate_model(model, Y_df, val_size, test_size, n_windows=None):\n",
        "    start = time.time()\n",
        "    nf = NeuralForecast(models=[model], freq='15min')\n",
        "    Y_hat_df = nf.cross_validation(df=Y_df, val_size=val_size, test_size=test_size, n_windows=n_windows)\n",
        "    end = time.time()\n",
        "    tim = (end-start)/60\n",
        "    # print(f\"Cross-validation time for {(end-start)/60:.2f} minutes\")\n",
        "    return Y_hat_df, tim\n",
        "\n",
        "# Define models\n",
        "horizon = 192\n",
        "models = [\n",
        "             FEDformer(h=horizon,\n",
        "                input_size=horizon,\n",
        "                max_steps=1000,\n",
        "                val_check_steps=100,\n",
        "                early_stop_patience_steps=3),\n",
        "            ]\n",
        "\n",
        "# Parallelize cross-validation for each model\n",
        "Results = Parallel(n_jobs=-1)(delayed(cross_validate_model)(model, Y_df, val_size, test_size) for model in models)\n",
        "\n"
      ],
      "metadata": {
        "id": "aoset089yYjz"
      },
      "execution_count": null,
      "outputs": []
    },
    {
      "cell_type": "code",
      "source": [
        "print(f\"Cross-validation time for {Results[0][1]} minutes\")"
      ],
      "metadata": {
        "id": "9YiZqkOXyY6X"
      },
      "execution_count": null,
      "outputs": []
    },
    {
      "cell_type": "code",
      "source": [
        "Y_hat_df = Results[0][0]"
      ],
      "metadata": {
        "id": "_aV5p2pFycq1"
      },
      "execution_count": null,
      "outputs": []
    },
    {
      "cell_type": "code",
      "source": [
        "import matplotlib.pyplot as plt\n",
        "Y_plot = Y_hat_df[Y_hat_df['unique_id']=='OT'] # OT dataset\n",
        "cutoffs = Y_hat_df['cutoff'].unique()[::horizon]\n",
        "Y_plot = Y_plot[Y_hat_df['cutoff'].isin(cutoffs)]\n",
        "\n",
        "plt.figure(figsize=(20,5))\n",
        "plt.plot(Y_plot['ds'], Y_plot['y'], label='True')\n",
        "\n",
        "\n",
        "# plt.plot(Y_plot['ds'], Y_plot['NBEATS'], label='NBEATS')\n",
        "\n",
        "plt.plot(Y_plot['ds'], Y_plot['FEDformer'], label='FEDformer')\n",
        "\n",
        "# plt.plot(Y_plot['ds'], Y_plot['NHITS'], label='NHITS')\n",
        "\n",
        "# plt.plot(Y_plot['ds'], Y_plot['Informer'], label='Informer')\n",
        "\n",
        "# plt.plot(Y_plot['ds'], Y_plot['Autoformer'], label='Autoformer')\n",
        "\n",
        "\n",
        "plt.xlabel('Datestamp')\n",
        "plt.ylabel('OT')\n",
        "plt.grid()\n",
        "plt.legend()"
      ],
      "metadata": {
        "id": "I69ylkrzzc5w"
      },
      "execution_count": null,
      "outputs": []
    },
    {
      "cell_type": "code",
      "source": [
        "from neuralforecast.losses.numpy import mae,mse\n",
        "\n",
        "# mae_autoformer = mae(Y_hat_df['y'], Y_hat_df['Autoformer'])\n",
        "# mse_autoformer = mse(Y_hat_df['y'], Y_hat_df['Autoformer'])\n",
        "# print(f'Autoformer MAE: {mae_autoformer:.3f}')\n",
        "# print(f'Autoformer MSE: {mse_autoformer:.3f}')\n",
        "\n",
        "\n",
        "mae_fedformer = mae(Y_hat_df['y'], Y_hat_df['FEDformer'])\n",
        "mse_fedformer = mse(Y_hat_df['y'], Y_hat_df['FEDformer'])\n",
        "print(f'FEDformer MAE: {mae_fedformer:.3f}')\n",
        "print(f'FEDformer MSE: {mse_fedformer:.3f}')\n",
        "\n",
        "# mae_nbeats = mae(Y_hat_df['y'], Y_hat_df['NBEATS'])\n",
        "# mse_nbeats = mse(Y_hat_df['y'], Y_hat_df['NBEATS'])\n",
        "# print(f'NBEATS MAE: {mae_nbeats:.3f}')\n",
        "# print(f'NBEATS MSE: {mse_nbeats:.3f}')\n",
        "\n",
        "# mae_nhits = mae(Y_hat_df['y'], Y_hat_df['NHITS'])\n",
        "# mse_nhits = mse(Y_hat_df['y'], Y_hat_df['NHITS'])\n",
        "# print(f'NHITS MAE: {mae_nhits:.3f}')\n",
        "# print(f'NHITS MSE: {mse_nhits:.3f}')\n",
        "\n",
        "# mae_informer = mae(Y_hat_df['y'], Y_hat_df['Informer'])\n",
        "# mse_informer = mse(Y_hat_df['y'], Y_hat_df['Informer'])\n",
        "# print(f'Informer MAE: {mae_informer:.3f}')\n",
        "# print(f'Informer MSE: {mse_informer:.3f}')\n",
        "\n"
      ],
      "metadata": {
        "id": "BaO7SO_cyY3w"
      },
      "execution_count": null,
      "outputs": []
    },
    {
      "cell_type": "markdown",
      "source": [
        "### NBEATS"
      ],
      "metadata": {
        "id": "ZF51PaJvyecf"
      }
    },
    {
      "cell_type": "code",
      "source": [
        "from joblib import Parallel, delayed\n",
        "import time\n",
        "\n",
        "# Define function for cross-validation\n",
        "def cross_validate_model(model, Y_df, val_size, test_size, n_windows=None):\n",
        "    start = time.time()\n",
        "    nf = NeuralForecast(models=[model], freq='15min')\n",
        "    Y_hat_df = nf.cross_validation(df=Y_df, val_size=val_size, test_size=test_size, n_windows=n_windows)\n",
        "    end = time.time()\n",
        "    tim = (end-start)/60\n",
        "    # print(f\"Cross-validation time for {(end-start)/60:.2f} minutes\")\n",
        "    return Y_hat_df, tim\n",
        "\n",
        "# Define models\n",
        "horizon = 192\n",
        "models = [\n",
        "            NBEATS(h=horizon,\n",
        "                input_size=horizon,\n",
        "                max_steps=1000,\n",
        "                val_check_steps=100,\n",
        "                early_stop_patience_steps=3),\n",
        "            ]\n",
        "\n",
        "# Parallelize cross-validation for each model\n",
        "Results = Parallel(n_jobs=-1)(delayed(cross_validate_model)(model, Y_df, val_size, test_size) for model in models)\n",
        "\n"
      ],
      "metadata": {
        "id": "NY3Epb_yyjbB"
      },
      "execution_count": null,
      "outputs": []
    },
    {
      "cell_type": "code",
      "source": [
        "print(f\"Cross-validation time for {Results[0][1]} minutes\")"
      ],
      "metadata": {
        "id": "OZYhKCV0ykw-"
      },
      "execution_count": null,
      "outputs": []
    },
    {
      "cell_type": "code",
      "source": [
        "Y_hat_df = Results[0][0]"
      ],
      "metadata": {
        "id": "TcI21Z8Byl3o"
      },
      "execution_count": null,
      "outputs": []
    },
    {
      "cell_type": "code",
      "source": [
        "import matplotlib.pyplot as plt\n",
        "Y_plot = Y_hat_df[Y_hat_df['unique_id']=='OT'] # OT dataset\n",
        "cutoffs = Y_hat_df['cutoff'].unique()[::horizon]\n",
        "Y_plot = Y_plot[Y_hat_df['cutoff'].isin(cutoffs)]\n",
        "\n",
        "plt.figure(figsize=(20,5))\n",
        "plt.plot(Y_plot['ds'], Y_plot['y'], label='True')\n",
        "\n",
        "\n",
        "plt.plot(Y_plot['ds'], Y_plot['NBEATS'], label='NBEATS')\n",
        "\n",
        "# plt.plot(Y_plot['ds'], Y_plot['FEDformer'], label='FEDformer')\n",
        "\n",
        "# plt.plot(Y_plot['ds'], Y_plot['NHITS'], label='NHITS')\n",
        "\n",
        "# plt.plot(Y_plot['ds'], Y_plot['Informer'], label='Informer')\n",
        "\n",
        "# plt.plot(Y_plot['ds'], Y_plot['Autoformer'], label='Autoformer')\n",
        "\n",
        "\n",
        "plt.xlabel('Datestamp')\n",
        "plt.ylabel('OT')\n",
        "plt.grid()\n",
        "plt.legend()"
      ],
      "metadata": {
        "id": "fe8IzMeoym1h"
      },
      "execution_count": null,
      "outputs": []
    },
    {
      "cell_type": "code",
      "source": [
        "from neuralforecast.losses.numpy import mae,mse\n",
        "\n",
        "# mae_autoformer = mae(Y_hat_df['y'], Y_hat_df['Autoformer'])\n",
        "# mse_autoformer = mse(Y_hat_df['y'], Y_hat_df['Autoformer'])\n",
        "# print(f'Autoformer MAE: {mae_autoformer:.3f}')\n",
        "# print(f'Autoformer MSE: {mse_autoformer:.3f}')\n",
        "\n",
        "\n",
        "# mae_fedformer = mae(Y_hat_df['y'], Y_hat_df['FEDformer'])\n",
        "# mse_fedformer = mse(Y_hat_df['y'], Y_hat_df['FEDformer'])\n",
        "# print(f'FEDformer MAE: {mae_fedformer:.3f}')\n",
        "# print(f'FEDformer MSE: {mse_fedformer:.3f}')\n",
        "\n",
        "mae_nbeats = mae(Y_hat_df['y'], Y_hat_df['NBEATS'])\n",
        "mse_nbeats = mse(Y_hat_df['y'], Y_hat_df['NBEATS'])\n",
        "print(f'NBEATS MAE: {mae_nbeats:.3f}')\n",
        "print(f'NBEATS MSE: {mse_nbeats:.3f}')\n",
        "\n",
        "# mae_nhits = mae(Y_hat_df['y'], Y_hat_df['NHITS'])\n",
        "# mse_nhits = mse(Y_hat_df['y'], Y_hat_df['NHITS'])\n",
        "# print(f'NHITS MAE: {mae_nhits:.3f}')\n",
        "# print(f'NHITS MSE: {mse_nhits:.3f}')\n",
        "\n",
        "# mae_informer = mae(Y_hat_df['y'], Y_hat_df['Informer'])\n",
        "# mse_informer = mse(Y_hat_df['y'], Y_hat_df['Informer'])\n",
        "# print(f'Informer MAE: {mae_informer:.3f}')\n",
        "# print(f'Informer MSE: {mse_informer:.3f}')\n",
        "\n"
      ],
      "metadata": {
        "id": "WtfjpZ9Byn0X"
      },
      "execution_count": null,
      "outputs": []
    },
    {
      "cell_type": "code",
      "source": [],
      "metadata": {
        "id": "BNb9zL43nlCr"
      },
      "execution_count": null,
      "outputs": []
    },
    {
      "cell_type": "markdown",
      "source": [
        "# AutoImformr Horizon = 96"
      ],
      "metadata": {
        "id": "k8VDpMGlno__"
      }
    },
    {
      "cell_type": "code",
      "source": [
        "Y_df"
      ],
      "metadata": {
        "id": "XOggT6rzpKqN"
      },
      "execution_count": null,
      "outputs": []
    },
    {
      "cell_type": "code",
      "source": [
        "Y_train_df = Y_df.iloc[:26208,:]\n",
        "Y_test_df = Y_df.iloc[26208:,:]"
      ],
      "metadata": {
        "id": "ZLh94bLfrhBM"
      },
      "execution_count": null,
      "outputs": []
    },
    {
      "cell_type": "code",
      "source": [
        "Y_test_df = Y_test_df.reset_index()"
      ],
      "metadata": {
        "id": "KEkzp6Phzbxb"
      },
      "execution_count": null,
      "outputs": []
    },
    {
      "cell_type": "code",
      "source": [
        "Y_test_df.drop(['index'], axis=1, inplace=True)\n",
        "Y_test_df"
      ],
      "metadata": {
        "id": "fFApLr3MryCD"
      },
      "execution_count": null,
      "outputs": []
    },
    {
      "cell_type": "code",
      "source": [
        "from neuralforecast.losses.numpy import mae,mse\n",
        "model = Autoformer(h=96,\n",
        "                 input_size=24,\n",
        "                #  hidden_size = 16,\n",
        "                #  conv_hidden_size = 32,\n",
        "                #  n_head=2,\n",
        "                 scaler_type='robust',\n",
        "                 learning_rate=1e-3,\n",
        "                 max_steps=1000,\n",
        "                #  val_check_steps=50,\n",
        "                #  early_stop_patience_steps=2\n",
        "                   )"
      ],
      "metadata": {
        "id": "gQjWnoicnwuo"
      },
      "execution_count": null,
      "outputs": []
    },
    {
      "cell_type": "code",
      "source": [
        "nf = NeuralForecast(\n",
        "    models=[model],\n",
        "    freq='H'\n",
        ")"
      ],
      "metadata": {
        "id": "FCwH999sn7xN"
      },
      "execution_count": null,
      "outputs": []
    },
    {
      "cell_type": "code",
      "source": [
        "nf.fit(df=Y_train_df)\n",
        "forecasts = nf.predict()\n"
      ],
      "metadata": {
        "id": "yVTowrPPn-Y9"
      },
      "execution_count": null,
      "outputs": []
    },
    {
      "cell_type": "code",
      "source": [
        "forecasts['ds'] = [i for i in range(len(forecasts))]\n",
        "forecasts"
      ],
      "metadata": {
        "id": "GlbRPumfwrcl"
      },
      "execution_count": null,
      "outputs": []
    },
    {
      "cell_type": "code",
      "source": [
        "fig, ax = plt.subplots(1, 1, figsize = (15, 7))\n",
        "plot_df = forecasts.set_index('ds')\n",
        "Y_test_df[['y']].plot(ax=ax,linewidth=2)\n",
        "plot_df[[ 'Autoformer']].plot(ax=ax, linewidth=2)"
      ],
      "metadata": {
        "id": "ZvZs324dyJg9"
      },
      "execution_count": null,
      "outputs": []
    },
    {
      "cell_type": "code",
      "source": [
        "forecasts=forecasts.set_index('ds')"
      ],
      "metadata": {
        "id": "ZsDkHZftEtfQ"
      },
      "execution_count": null,
      "outputs": []
    },
    {
      "cell_type": "code",
      "source": [
        "from neuralforecast.losses.numpy import mae,mse\n",
        "\n",
        "\n",
        "mae_autoformer = mae(Y_test_df['y'], forecasts['Autoformer'])\n",
        "mse_autoformer = mse(Y_test_df['y'], forecasts['Autoformer'])\n",
        "print(f'Autoformer MAE: {mae_autoformer:.3f}')\n",
        "print(f'Autoformer MSE: {mse_autoformer:.3f}')"
      ],
      "metadata": {
        "id": "YbcfRdpT0bUi"
      },
      "execution_count": null,
      "outputs": []
    },
    {
      "cell_type": "markdown",
      "source": [
        "## Horizon = 192"
      ],
      "metadata": {
        "id": "q9w8mLZon180"
      }
    },
    {
      "cell_type": "code",
      "source": [
        "Y_df"
      ],
      "metadata": {
        "id": "8NDf95VRn6HB"
      },
      "execution_count": null,
      "outputs": []
    },
    {
      "cell_type": "code",
      "source": [
        "Y_train_df = Y_df.iloc[:26112,:]\n",
        "Y_test_df = Y_df.iloc[26112:,:]\n",
        "Y_test_df"
      ],
      "metadata": {
        "id": "8Se2obLToBNq"
      },
      "execution_count": null,
      "outputs": []
    },
    {
      "cell_type": "code",
      "source": [
        "Y_test_df = Y_test_df.reset_index()"
      ],
      "metadata": {
        "id": "pwEZr3gNrCfF"
      },
      "execution_count": null,
      "outputs": []
    },
    {
      "cell_type": "code",
      "source": [
        "Y_test_df.drop(['index'], axis=1, inplace=True)\n",
        "Y_test_df"
      ],
      "metadata": {
        "id": "K6jj5IL-rICQ"
      },
      "execution_count": null,
      "outputs": []
    },
    {
      "cell_type": "code",
      "source": [
        "from neuralforecast.losses.numpy import mae,mse\n",
        "model = Autoformer(h=192,\n",
        "                 input_size=24,\n",
        "                #  hidden_size = 16,\n",
        "                #  conv_hidden_size = 32,\n",
        "                #  n_head=2,\n",
        "                 scaler_type='robust',\n",
        "                 learning_rate=1e-3,\n",
        "                 max_steps=1,\n",
        "                #  val_check_steps=50,\n",
        "                #  early_stop_patience_steps=2\n",
        "                   )"
      ],
      "metadata": {
        "id": "x05Hear_oUYJ"
      },
      "execution_count": null,
      "outputs": []
    },
    {
      "cell_type": "code",
      "source": [
        "nf = NeuralForecast(\n",
        "    models=[model],\n",
        "    freq='H'\n",
        ")"
      ],
      "metadata": {
        "id": "nxcomvhmpj5u"
      },
      "execution_count": null,
      "outputs": []
    },
    {
      "cell_type": "code",
      "source": [
        "nf.fit(df=Y_train_df)\n",
        "forecasts = nf.predict()\n"
      ],
      "metadata": {
        "id": "dO6-kXtdprnm"
      },
      "execution_count": null,
      "outputs": []
    },
    {
      "cell_type": "code",
      "source": [
        "forecasts['ds'] = [i for i in range(len(forecasts))]\n",
        "forecasts"
      ],
      "metadata": {
        "id": "EQDl3wi7psqK"
      },
      "execution_count": null,
      "outputs": []
    },
    {
      "cell_type": "code",
      "source": [
        "fig, ax = plt.subplots(1, 1, figsize = (15, 7))\n",
        "plot_df = forecasts.set_index('ds')\n",
        "Y_test_df[['y']].plot(ax=ax,linewidth=2)\n",
        "plot_df[[ 'Autoformer']].plot(ax=ax, linewidth=2)"
      ],
      "metadata": {
        "id": "r9yNulKrpt-B"
      },
      "execution_count": null,
      "outputs": []
    },
    {
      "cell_type": "code",
      "source": [
        "forecasts=forecasts.set_index('ds')"
      ],
      "metadata": {
        "id": "90YnG8SrjKMW"
      },
      "execution_count": null,
      "outputs": []
    },
    {
      "cell_type": "code",
      "source": [
        "from neuralforecast.losses.numpy import mae,mse\n",
        "\n",
        "\n",
        "mae_autoformer = mae(Y_test_df['y'], forecasts['Autoformer'])\n",
        "mse_autoformer = mse(Y_test_df['y'], forecasts['Autoformer'])\n",
        "print(f'Autoformer MAE: {mae_autoformer:.3f}')\n",
        "print(f'Autoformer MSE: {mse_autoformer:.3f}')"
      ],
      "metadata": {
        "id": "-Tn8CQm8pu1X"
      },
      "execution_count": null,
      "outputs": []
    },
    {
      "cell_type": "markdown",
      "source": [
        "## Horizon 336"
      ],
      "metadata": {
        "id": "coY9Wk54pyoX"
      }
    },
    {
      "cell_type": "code",
      "source": [
        "Y_df"
      ],
      "metadata": {
        "id": "8t8h0r6ApyKw"
      },
      "execution_count": null,
      "outputs": []
    },
    {
      "cell_type": "code",
      "source": [
        "Y_train_df = Y_df.iloc[:25968,:]\n",
        "Y_test_df = Y_df.iloc[25968:,:]\n",
        "Y_test_df"
      ],
      "metadata": {
        "id": "A4cq9pCTp_JH"
      },
      "execution_count": null,
      "outputs": []
    },
    {
      "cell_type": "code",
      "source": [
        "Y_test_df = Y_test_df.reset_index()"
      ],
      "metadata": {
        "id": "BO8o5bqArKRQ"
      },
      "execution_count": null,
      "outputs": []
    },
    {
      "cell_type": "code",
      "source": [
        "Y_test_df.drop(['index'], axis=1, inplace=True)\n",
        "Y_test_df"
      ],
      "metadata": {
        "id": "LeJjTo3KrLan"
      },
      "execution_count": null,
      "outputs": []
    },
    {
      "cell_type": "code",
      "source": [
        "from neuralforecast.losses.numpy import mae,mse\n",
        "model = Autoformer(h=336,\n",
        "                 input_size=24,\n",
        "                #  hidden_size = 16,\n",
        "                #  conv_hidden_size = 32,\n",
        "                #  n_head=2,\n",
        "                 scaler_type='robust',\n",
        "                 learning_rate=1e-3,\n",
        "                 max_steps=1,\n",
        "                #  val_check_steps=50,\n",
        "                #  early_stop_patience_steps=2\n",
        "                   )"
      ],
      "metadata": {
        "id": "w9gd1QCRqAVm"
      },
      "execution_count": null,
      "outputs": []
    },
    {
      "cell_type": "code",
      "source": [
        "nf = NeuralForecast(\n",
        "    models=[model],\n",
        "    freq='H'\n",
        ")"
      ],
      "metadata": {
        "id": "lJHj_pwBqCEL"
      },
      "execution_count": null,
      "outputs": []
    },
    {
      "cell_type": "code",
      "source": [
        "nf.fit(df=Y_train_df)\n",
        "forecasts = nf.predict()\n"
      ],
      "metadata": {
        "id": "LpntNsGkqER-"
      },
      "execution_count": null,
      "outputs": []
    },
    {
      "cell_type": "code",
      "source": [
        "forecasts['ds'] = [i for i in range(len(forecasts))]\n",
        "forecasts"
      ],
      "metadata": {
        "id": "s5SrFLOEqF9-"
      },
      "execution_count": null,
      "outputs": []
    },
    {
      "cell_type": "code",
      "source": [
        "fig, ax = plt.subplots(1, 1, figsize = (15, 7))\n",
        "plot_df = forecasts.set_index('ds')\n",
        "Y_test_df[['y']].plot(ax=ax,linewidth=2)\n",
        "plot_df[[ 'Autoformer']].plot(ax=ax, linewidth=2)"
      ],
      "metadata": {
        "id": "zRv93sCdqIhB"
      },
      "execution_count": null,
      "outputs": []
    },
    {
      "cell_type": "code",
      "source": [
        "forecasts=forecasts.set_index('ds')"
      ],
      "metadata": {
        "id": "-ExFnz2kjR4-"
      },
      "execution_count": null,
      "outputs": []
    },
    {
      "cell_type": "code",
      "source": [
        "from neuralforecast.losses.numpy import mae,mse\n",
        "\n",
        "\n",
        "mae_autoformer = mae(Y_test_df['y'], forecasts['Autoformer'])\n",
        "mse_autoformer = mse(Y_test_df['y'], forecasts['Autoformer'])\n",
        "print(f'Autoformer MAE: {mae_autoformer:.3f}')\n",
        "print(f'Autoformer MSE: {mse_autoformer:.3f}')"
      ],
      "metadata": {
        "id": "T3ueJskQqJfX"
      },
      "execution_count": null,
      "outputs": []
    },
    {
      "cell_type": "markdown",
      "source": [
        "## Horizon 720"
      ],
      "metadata": {
        "id": "FhmRa0kDqKdU"
      }
    },
    {
      "cell_type": "code",
      "source": [
        "Y_df"
      ],
      "metadata": {
        "id": "9x5vaspVqN_H"
      },
      "execution_count": null,
      "outputs": []
    },
    {
      "cell_type": "code",
      "source": [
        "Y_train_df = Y_df.iloc[:25584,:]\n",
        "Y_test_df = Y_df.iloc[25584:,:]\n",
        "Y_test_df"
      ],
      "metadata": {
        "id": "hVp5vZNvqQHn"
      },
      "execution_count": null,
      "outputs": []
    },
    {
      "cell_type": "code",
      "source": [
        "Y_test_df = Y_test_df.reset_index()"
      ],
      "metadata": {
        "id": "0r0Ga-p_rM84"
      },
      "execution_count": null,
      "outputs": []
    },
    {
      "cell_type": "code",
      "source": [
        "Y_test_df.drop(['index'], axis=1, inplace=True)\n",
        "Y_test_df"
      ],
      "metadata": {
        "id": "XhaiKCNnrNnu"
      },
      "execution_count": null,
      "outputs": []
    },
    {
      "cell_type": "code",
      "source": [
        "from neuralforecast.losses.numpy import mae,mse\n",
        "model = Autoformer(h=720,\n",
        "                 input_size=24,\n",
        "                #  hidden_size = 16,\n",
        "                #  conv_hidden_size = 32,\n",
        "                #  n_head=2,\n",
        "                 scaler_type='robust',\n",
        "                 learning_rate=1e-3,\n",
        "                 max_steps=1,\n",
        "                #  val_check_steps=50,\n",
        "                #  early_stop_patience_steps=2\n",
        "                   )"
      ],
      "metadata": {
        "id": "5iC__zGyqRcv"
      },
      "execution_count": null,
      "outputs": []
    },
    {
      "cell_type": "code",
      "source": [
        "nf = NeuralForecast(\n",
        "    models=[model],\n",
        "    freq='H'\n",
        ")"
      ],
      "metadata": {
        "id": "Jh3Fvf5mqS7o"
      },
      "execution_count": null,
      "outputs": []
    },
    {
      "cell_type": "code",
      "source": [
        "nf.fit(df=Y_train_df)\n",
        "forecasts = nf.predict()\n"
      ],
      "metadata": {
        "id": "JGhOBIaxqVrn"
      },
      "execution_count": null,
      "outputs": []
    },
    {
      "cell_type": "code",
      "source": [
        "forecasts['ds'] = [i for i in range(len(forecasts))]\n",
        "forecasts"
      ],
      "metadata": {
        "id": "_uWPVSTRqW0h"
      },
      "execution_count": null,
      "outputs": []
    },
    {
      "cell_type": "code",
      "source": [
        "fig, ax = plt.subplots(1, 1, figsize = (15, 7))\n",
        "plot_df = forecasts.set_index('ds')\n",
        "Y_test_df[['y']].plot(ax=ax,linewidth=2)\n",
        "plot_df[[ 'Autoformer']].plot(ax=ax, linewidth=2)"
      ],
      "metadata": {
        "id": "Khq7H_hoqXxe"
      },
      "execution_count": null,
      "outputs": []
    },
    {
      "cell_type": "code",
      "source": [
        "forecasts=forecasts.set_index('ds')"
      ],
      "metadata": {
        "id": "MxBCkyLGjYlu"
      },
      "execution_count": null,
      "outputs": []
    },
    {
      "cell_type": "code",
      "source": [
        "from neuralforecast.losses.numpy import mae,mse\n",
        "\n",
        "\n",
        "mae_autoformer = mae(Y_test_df['y'], forecasts['Autoformer'])\n",
        "mse_autoformer = mse(Y_test_df['y'], forecasts['Autoformer'])\n",
        "print(f'Autoformer MAE: {mae_autoformer:.3f}')\n",
        "print(f'Autoformer MSE: {mse_autoformer:.3f}')"
      ],
      "metadata": {
        "id": "ssQAMBR2qYqs"
      },
      "execution_count": null,
      "outputs": []
    },
    {
      "cell_type": "code",
      "source": [],
      "metadata": {
        "id": "8zen-Nr5jZPW"
      },
      "execution_count": null,
      "outputs": []
    }
  ]
}